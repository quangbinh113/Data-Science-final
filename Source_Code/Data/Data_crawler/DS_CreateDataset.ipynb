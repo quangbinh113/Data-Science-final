{
  "cells": [
    {
      "cell_type": "code",
      "execution_count": 1,
      "metadata": {
        "id": "MG3dCyu8OBM5"
      },
      "outputs": [
        {
          "name": "stderr",
          "output_type": "stream",
          "text": [
            "[nltk_data] Downloading package punkt to C:\\Users\\Quang\n",
            "[nltk_data]     Binh\\AppData\\Roaming\\nltk_data...\n",
            "[nltk_data]   Package punkt is already up-to-date!\n",
            "[nltk_data] Downloading package stopwords to C:\\Users\\Quang\n",
            "[nltk_data]     Binh\\AppData\\Roaming\\nltk_data...\n",
            "[nltk_data]   Package stopwords is already up-to-date!\n"
          ]
        }
      ],
      "source": [
        "import os, re\n",
        "import matplotlib as plt \n",
        "import enchant\n",
        "import string\n",
        "import numpy as np\n",
        "import pandas as pd\n",
        "import matplotlib.pyplot as plt\n",
        "import matplotlib.image as mpimg\n",
        "%matplotlib inline\n",
        "import seaborn as sns\n",
        "np.random.seed(2020)\n",
        "import nltk\n",
        "nltk.download('punkt') # one time execution\n",
        "nltk.download('stopwords')\n",
        "from nltk.corpus import stopwords\n",
        "stop_words = set(stopwords.words('english'))\n",
        "import re\n",
        "from nltk.tokenize import word_tokenize"
      ]
    },
    {
      "cell_type": "code",
      "execution_count": 2,
      "metadata": {
        "colab": {
          "base_uri": "https://localhost:8080/"
        },
        "id": "bHKaF3pjvYOA",
        "outputId": "5fde1c3b-80e3-4b14-a3db-fa69519917c7"
      },
      "outputs": [],
      "source": [
        "def countLyric(PATH):\n",
        "    list_genre = os.listdir(PATH)\n",
        "    for gen in list_genre:\n",
        "        genre_PATH = os.path.join(PATH, gen)\n",
        "        list_lyric = os.listdir(genre_PATH)\n",
        "        print('Category {} has {} elements.'.format(gen, len(list_lyric)))"
      ]
    },
    {
      "cell_type": "markdown",
      "metadata": {
        "id": "5UajSnonx_LY"
      },
      "source": [
        "# Create Dataset"
      ]
    },
    {
      "cell_type": "markdown",
      "metadata": {},
      "source": [
        "## Delete empty files"
      ]
    },
    {
      "cell_type": "code",
      "execution_count": 24,
      "metadata": {
        "colab": {
          "base_uri": "https://localhost:8080/"
        },
        "id": "hRbQla9NyDHH",
        "outputId": "771cd1ac-b29b-4ae4-ede7-edaadf7e5d21"
      },
      "outputs": [],
      "source": [
        "# find empty files\n",
        "\n",
        "def check_emptyFiles(PATH):\n",
        "    list_genre = os.listdir(PATH)\n",
        "    for gen in list_genre:\n",
        "        genre_PATH = os.path.join(PATH, gen)\n",
        "        list_lyric = os.listdir(genre_PATH)\n",
        "        empty_files = []\n",
        "        for lyric in list_lyric:\n",
        "            lyric_PATH = os.path.join(genre_PATH, lyric)\n",
        "            with open(lyric_PATH, 'r', encoding='utf-8') as lf:\n",
        "                for count, line in enumerate(lf):\n",
        "                    pass\n",
        "            if count == 0:\n",
        "                empty_files.append(lyric)\n",
        "\n",
        "        print('     {}: {} \\nTotal: {}'.format(gen, empty_files, len(empty_files)))\n",
        "\n",
        "# check_emptyFiles('E:\\Data_analysis\\Data_Science\\Data_crawler\\song_lyrics_spotify')"
      ]
    },
    {
      "cell_type": "code",
      "execution_count": 27,
      "metadata": {},
      "outputs": [],
      "source": [
        "# remove empty files\n",
        "def remove_empty(PATH):\n",
        "    list_genre = os.listdir(PATH)\n",
        "    for gen in list_genre:\n",
        "        genre_PATH = os.path.join(PATH, gen)\n",
        "        list_lyric = os.listdir(genre_PATH)\n",
        "        for lyric in list_lyric:\n",
        "            lyric_PATH = os.path.join(genre_PATH, lyric)\n",
        "            with open(lyric_PATH, 'r', encoding='utf-8') as lf:\n",
        "                for count, line in enumerate(lf):\n",
        "                    pass\n",
        "            if count == 0:\n",
        "                os.remove(lyric_PATH)\n",
        "\n",
        "remove_empty(r'E:\\Data_analysis\\Data_Science\\Data_crawler\\song_lyrics')"
      ]
    },
    {
      "cell_type": "code",
      "execution_count": 28,
      "metadata": {},
      "outputs": [
        {
          "name": "stdout",
          "output_type": "stream",
          "text": [
            "     COUNTRY: [] \n",
            "Total: 0\n",
            "     HIPHOP: [] \n",
            "Total: 0\n",
            "     INDIE: [] \n",
            "Total: 0\n",
            "     JAZZ: [] \n",
            "Total: 0\n",
            "     POP: [] \n",
            "Total: 0\n",
            "     ROCK: [] \n",
            "Total: 0\n"
          ]
        }
      ],
      "source": [
        "check_emptyFiles('E:\\Data_analysis\\Data_Science\\Data_crawler\\song_lyrics')"
      ]
    },
    {
      "cell_type": "markdown",
      "metadata": {},
      "source": [
        "## Delete special character in files"
      ]
    },
    {
      "cell_type": "code",
      "execution_count": 30,
      "metadata": {},
      "outputs": [],
      "source": [
        "def remove_SpecialCharacter(PATH):\n",
        "    list_genre = os.listdir(PATH)\n",
        "    for gen in list_genre:\n",
        "        genre_PATH = os.path.join(PATH, gen)\n",
        "        list_lyric = os.listdir(genre_PATH)\n",
        "        for lyric in list_lyric:\n",
        "            lyric_PATH = os.path.join(genre_PATH, lyric)\n",
        "            with open(lyric_PATH, 'r', encoding='utf-8') as lfr:\n",
        "                lines = lfr.readlines()\n",
        "                with open(lyric_PATH, 'w', encoding='utf-8') as lfw:\n",
        "                    for line in lines:\n",
        "                        if line.strip('\\n') != '♪':\n",
        "                            lfw.write(line)\n",
        "\n",
        "remove_SpecialCharacter(r'E:\\Data_analysis\\Data_Science\\Data_crawler\\song_lyrics')"
      ]
    },
    {
      "cell_type": "markdown",
      "metadata": {},
      "source": [
        "## Delete Non-English files"
      ]
    },
    {
      "cell_type": "code",
      "execution_count": 35,
      "metadata": {
        "colab": {
          "base_uri": "https://localhost:8080/"
        },
        "id": "fMfeXoRByMSG",
        "outputId": "d7b3bf3d-24b4-4ea7-9b3b-55a80a2d7b0a"
      },
      "outputs": [],
      "source": [
        "#find non-English files\n",
        "# dict = enchant.Dict(\"en_US\")\n",
        "from langdetect import detect\n",
        "\n",
        "def detect_lang(txt):\n",
        "    try:\n",
        "        return detect(txt)\n",
        "    except:\n",
        "        return False\n",
        "\n",
        "\n",
        "def check_NonEnglishFiles(PATH):\n",
        "    list_genre = os.listdir(PATH)\n",
        "    for gen in list_genre:\n",
        "        genre_PATH = os.path.join(PATH, gen)\n",
        "        list_lyric = os.listdir(genre_PATH)\n",
        "        total = 0\n",
        "        print('{}: '.format(gen))\n",
        "        for lyric in list_lyric:\n",
        "            lyric_PATH = os.path.join(genre_PATH, lyric)\n",
        "            with open(lyric_PATH, 'r', encoding='utf-8') as lf:\n",
        "                string = ''\n",
        "                for count, line in enumerate(lf):\n",
        "                    if count != 0:\n",
        "                        string += line.replace('\\n', '. ')\n",
        "            if detect_lang(string) != 'en':\n",
        "                total += 1\n",
        "                print('     File {} is not in English.'.format(lyric))\n",
        "        print('  Total: ', total)"
      ]
    },
    {
      "cell_type": "code",
      "execution_count": 31,
      "metadata": {},
      "outputs": [
        {
          "name": "stdout",
          "output_type": "stream",
          "text": [
            "COUNTRY: \n",
            "  Total:  0\n",
            "HIPHOP: \n",
            "     File 2169.txt is not in English.\n",
            "     File 2304.txt is not in English.\n",
            "  Total:  2\n",
            "INDIE: \n",
            "     File 1070.txt is not in English.\n",
            "     File 1611.txt is not in English.\n",
            "     File 2184.txt is not in English.\n",
            "     File 980.txt is not in English.\n",
            "     File 994.txt is not in English.\n",
            "  Total:  5\n",
            "JAZZ: \n",
            "     File 1029.txt is not in English.\n",
            "     File 2118.txt is not in English.\n",
            "     File 2332.txt is not in English.\n",
            "     File 2368.txt is not in English.\n",
            "     File 2380.txt is not in English.\n",
            "     File 2596.txt is not in English.\n",
            "     File 588.txt is not in English.\n",
            "  Total:  7\n",
            "POP: \n",
            "     File 1684.txt is not in English.\n",
            "     File 2579.txt is not in English.\n",
            "  Total:  2\n",
            "ROCK: \n",
            "     File 2098.txt is not in English.\n",
            "     File 2102.txt is not in English.\n",
            "     File 2182.txt is not in English.\n",
            "  Total:  3\n"
          ]
        }
      ],
      "source": [
        "check_NonEnglishFiles(r'E:\\Data_analysis\\Data_Science\\Data_crawler\\song_lyrics')"
      ]
    },
    {
      "cell_type": "code",
      "execution_count": 32,
      "metadata": {},
      "outputs": [],
      "source": [
        "# delete non-English files\n",
        "\n",
        "def remove_NonEnglishFiles(PATH):\n",
        "    list_genre = os.listdir(PATH)\n",
        "    for gen in list_genre:\n",
        "        genre_PATH = os.path.join(PATH, gen)\n",
        "        list_lyric = os.listdir(genre_PATH)\n",
        "        for lyric in list_lyric:\n",
        "            lyric_PATH = os.path.join(genre_PATH, lyric)\n",
        "            with open(lyric_PATH, 'r', encoding='utf-8') as lf:\n",
        "                string = ''\n",
        "                for count, line in enumerate(lf):\n",
        "                    if count != 0:\n",
        "                        string += line.replace('\\n', '. ')\n",
        "            if detect_lang(string) != 'en':\n",
        "                os.remove(lyric_PATH)\n",
        "\n"
      ]
    },
    {
      "cell_type": "code",
      "execution_count": 33,
      "metadata": {},
      "outputs": [],
      "source": [
        "remove_NonEnglishFiles(r'E:\\Data_analysis\\Data_Science\\Data_crawler\\song_lyrics')"
      ]
    },
    {
      "cell_type": "code",
      "execution_count": 36,
      "metadata": {},
      "outputs": [
        {
          "name": "stdout",
          "output_type": "stream",
          "text": [
            "COUNTRY: \n",
            "  Total:  0\n",
            "HIPHOP: \n",
            "  Total:  0\n",
            "INDIE: \n",
            "     File 677.txt is not in English.\n",
            "  Total:  1\n",
            "JAZZ: \n",
            "     File 588.txt is not in English.\n",
            "  Total:  1\n",
            "POP: \n",
            "  Total:  0\n",
            "ROCK: \n",
            "  Total:  0\n"
          ]
        }
      ],
      "source": [
        "check_NonEnglishFiles(r'E:\\Data_analysis\\Data_Science\\Data_crawler\\song_lyrics')"
      ]
    },
    {
      "cell_type": "code",
      "execution_count": 34,
      "metadata": {},
      "outputs": [
        {
          "name": "stdout",
          "output_type": "stream",
          "text": [
            "Category COUNTRY has 2369 elements.\n",
            "Category HIPHOP has 2563 elements.\n",
            "Category INDIE has 2286 elements.\n",
            "Category JAZZ has 2226 elements.\n",
            "Category POP has 2587 elements.\n",
            "Category ROCK has 2094 elements.\n"
          ]
        }
      ],
      "source": [
        "countLyric(r'E:\\Data_analysis\\Data_Science\\Data_crawler\\song_lyrics')"
      ]
    },
    {
      "cell_type": "markdown",
      "metadata": {},
      "source": [
        "## Delete Duplicate files"
      ]
    },
    {
      "cell_type": "code",
      "execution_count": 41,
      "metadata": {},
      "outputs": [
        {
          "name": "stdout",
          "output_type": "stream",
          "text": [
            "COUNTRY :  597\n",
            "['104.txt', '109.txt', '112.txt', '1125.txt', '1127.txt', '117.txt', '1170.txt', '1189.txt', '1290.txt', '1304.txt', '1363.txt', '137.txt', '139.txt', '140.txt', '1407.txt', '1415.txt', '1432.txt', '1441.txt', '145.txt', '1466.txt', '151.txt', '1550.txt', '156.txt', '157.txt', '1575.txt', '1576.txt', '1589.txt', '1591.txt', '1593.txt', '160.txt', '1606.txt', '1607.txt', '1608.txt', '1615.txt', '1617.txt', '1632.txt', '1647.txt', '1670.txt', '1675.txt', '168.txt', '169.txt', '1695.txt', '1704.txt', '1710.txt', '1713.txt', '1714.txt', '1715.txt', '1718.txt', '172.txt', '1721.txt', '1724.txt', '1726.txt', '1733.txt', '1736.txt', '1738.txt', '174.txt', '1742.txt', '1756.txt', '1759.txt', '176.txt', '1764.txt', '1767.txt', '1779.txt', '178.txt', '1780.txt', '1781.txt', '1782.txt', '1784.txt', '1789.txt', '179.txt', '180.txt', '1802.txt', '1810.txt', '1817.txt', '1818.txt', '1826.txt', '1828.txt', '1831.txt', '184.txt', '1841.txt', '1843.txt', '1846.txt', '1869.txt', '188.txt', '1895.txt', '191.txt', '1914.txt', '1932.txt', '1935.txt', '1946.txt', '1948.txt', '1950.txt', '1959.txt', '197.txt', '1981.txt', '199.txt', '200.txt', '2012.txt', '2013.txt', '2014.txt', '2015.txt', '2016.txt', '2018.txt', '2019.txt', '2020.txt', '2021.txt', '2022.txt', '2023.txt', '2024.txt', '2025.txt', '2026.txt', '2027.txt', '2029.txt', '203.txt', '2030.txt', '2031.txt', '2032.txt', '2033.txt', '2034.txt', '2035.txt', '2036.txt', '2037.txt', '2038.txt', '2041.txt', '2042.txt', '2043.txt', '2044.txt', '2045.txt', '2046.txt', '2047.txt', '2048.txt', '2049.txt', '205.txt', '2050.txt', '2052.txt', '2053.txt', '2054.txt', '2055.txt', '2056.txt', '2057.txt', '2058.txt', '2059.txt', '206.txt', '2060.txt', '2061.txt', '2063.txt', '2064.txt', '2065.txt', '2066.txt', '2067.txt', '2068.txt', '2069.txt', '2070.txt', '2071.txt', '2072.txt', '2074.txt', '2075.txt', '2076.txt', '2077.txt', '2078.txt', '2079.txt', '208.txt', '2080.txt', '2081.txt', '2082.txt', '2083.txt', '2084.txt', '2085.txt', '2086.txt', '2087.txt', '2088.txt', '2089.txt', '209.txt', '2090.txt', '2091.txt', '2092.txt', '2095.txt', '2122.txt', '2126.txt', '2135.txt', '2137.txt', '2144.txt', '2145.txt', '2147.txt', '2148.txt', '2149.txt', '2151.txt', '2153.txt', '2162.txt', '2167.txt', '2168.txt', '218.txt', '2185.txt', '2188.txt', '2189.txt', '2192.txt', '2193.txt', '2195.txt', '2196.txt', '2197.txt', '2198.txt', '2199.txt', '22.txt', '220.txt', '2205.txt', '2208.txt', '2209.txt', '221.txt', '2211.txt', '2213.txt', '2214.txt', '2215.txt', '2218.txt', '2222.txt', '2223.txt', '2225.txt', '2233.txt', '2234.txt', '2235.txt', '2247.txt', '2249.txt', '2254.txt', '2259.txt', '226.txt', '2262.txt', '2264.txt', '2265.txt', '2268.txt', '2272.txt', '2273.txt', '2279.txt', '2283.txt', '2298.txt', '230.txt', '2301.txt', '2311.txt', '232.txt', '2330.txt', '2338.txt', '237.txt', '2380.txt', '2382.txt', '2388.txt', '2391.txt', '24.txt', '240.txt', '241.txt', '242.txt', '245.txt', '247.txt', '248.txt', '25.txt', '252.txt', '254.txt', '256.txt', '257.txt', '258.txt', '264.txt', '269.txt', '270.txt', '272.txt', '273.txt', '274.txt', '275.txt', '277.txt', '279.txt', '281.txt', '289.txt', '290.txt', '294.txt', '297.txt', '298.txt', '30.txt', '300.txt', '306.txt', '307.txt', '311.txt', '316.txt', '320.txt', '327.txt', '329.txt', '34.txt', '344.txt', '345.txt', '348.txt', '351.txt', '353.txt', '354.txt', '355.txt', '357.txt', '359.txt', '36.txt', '360.txt', '362.txt', '363.txt', '366.txt', '368.txt', '370.txt', '372.txt', '374.txt', '376.txt', '379.txt', '380.txt', '381.txt', '382.txt', '385.txt', '395.txt', '397.txt', '399.txt', '400.txt', '402.txt', '406.txt', '409.txt', '421.txt', '422.txt', '425.txt', '426.txt', '428.txt', '431.txt', '432.txt', '437.txt', '439.txt', '443.txt', '444.txt', '449.txt', '45.txt', '458.txt', '464.txt', '467.txt', '469.txt', '47.txt', '471.txt', '472.txt', '473.txt', '474.txt', '476.txt', '478.txt', '479.txt', '480.txt', '481.txt', '482.txt', '484.txt', '485.txt', '487.txt', '489.txt', '490.txt', '492.txt', '493.txt', '497.txt', '498.txt', '499.txt', '5.txt', '500.txt', '502.txt', '503.txt', '507.txt', '513.txt', '516.txt', '519.txt', '52.txt', '520.txt', '521.txt', '522.txt', '526.txt', '529.txt', '53.txt', '530.txt', '532.txt', '537.txt', '54.txt', '548.txt', '55.txt', '550.txt', '555.txt', '556.txt', '56.txt', '563.txt', '564.txt', '568.txt', '57.txt', '573.txt', '575.txt', '578.txt', '58.txt', '580.txt', '587.txt', '59.txt', '590.txt', '593.txt', '595.txt', '599.txt', '604.txt', '61.txt', '62.txt', '626.txt', '628.txt', '63.txt', '630.txt', '631.txt', '632.txt', '633.txt', '634.txt', '635.txt', '636.txt', '637.txt', '638.txt', '639.txt', '64.txt', '640.txt', '641.txt', '642.txt', '643.txt', '644.txt', '645.txt', '646.txt', '647.txt', '651.txt', '652.txt', '653.txt', '654.txt', '655.txt', '656.txt', '657.txt', '658.txt', '659.txt', '66.txt', '660.txt', '661.txt', '662.txt', '663.txt', '664.txt', '665.txt', '667.txt', '668.txt', '669.txt', '67.txt', '670.txt', '673.txt', '674.txt', '676.txt', '677.txt', '678.txt', '68.txt', '680.txt', '681.txt', '682.txt', '683.txt', '684.txt', '685.txt', '686.txt', '687.txt', '688.txt', '689.txt', '69.txt', '690.txt', '691.txt', '692.txt', '693.txt', '694.txt', '695.txt', '696.txt', '697.txt', '698.txt', '699.txt', '7.txt', '700.txt', '702.txt', '704.txt', '707.txt', '708.txt', '709.txt', '71.txt', '710.txt', '711.txt', '712.txt', '713.txt', '715.txt', '716.txt', '718.txt', '719.txt', '72.txt', '720.txt', '721.txt', '722.txt', '723.txt', '724.txt', '725.txt', '726.txt', '727.txt', '728.txt', '73.txt', '730.txt', '731.txt', '732.txt', '733.txt', '734.txt', '736.txt', '739.txt', '74.txt', '740.txt', '742.txt', '743.txt', '744.txt', '746.txt', '748.txt', '749.txt', '75.txt', '752.txt', '753.txt', '756.txt', '757.txt', '758.txt', '759.txt', '76.txt', '760.txt', '762.txt', '763.txt', '764.txt', '768.txt', '769.txt', '77.txt', '770.txt', '772.txt', '773.txt', '774.txt', '775.txt', '776.txt', '779.txt', '78.txt', '781.txt', '785.txt', '787.txt', '788.txt', '789.txt', '79.txt', '790.txt', '8.txt', '80.txt', '802.txt', '81.txt', '82.txt', '827.txt', '83.txt', '839.txt', '84.txt', '842.txt', '844.txt', '847.txt', '85.txt', '852.txt', '853.txt', '856.txt', '859.txt', '86.txt', '860.txt', '861.txt', '866.txt', '87.txt', '88.txt', '885.txt', '887.txt', '89.txt', '893.txt', '896.txt', '899.txt', '9.txt', '90.txt', '902.txt', '903.txt', '904.txt', '908.txt', '91.txt', '916.txt', '92.txt', '922.txt', '927.txt', '928.txt', '93.txt', '937.txt', '939.txt', '94.txt', '941.txt', '942.txt', '946.txt', '947.txt', '95.txt', '953.txt', '957.txt', '959.txt', '96.txt', '960.txt', '964.txt', '97.txt', '973.txt', '98.txt', '982.txt', '99.txt']\n",
            "HIPHOP :  302\n",
            "['14.txt', '1429.txt', '1473.txt', '1529.txt', '161.txt', '1625.txt', '1653.txt', '1681.txt', '1683.txt', '1687.txt', '1698.txt', '1701.txt', '1702.txt', '1705.txt', '1707.txt', '1720.txt', '1734.txt', '1746.txt', '1752.txt', '1757.txt', '1761.txt', '1773.txt', '1788.txt', '1794.txt', '1795.txt', '1797.txt', '1798.txt', '1799.txt', '1800.txt', '1801.txt', '1802.txt', '1803.txt', '1804.txt', '1810.txt', '1811.txt', '1818.txt', '1820.txt', '1822.txt', '1826.txt', '1828.txt', '1829.txt', '1830.txt', '1835.txt', '1837.txt', '1838.txt', '1842.txt', '1847.txt', '1850.txt', '1862.txt', '1906.txt', '1917.txt', '1939.txt', '1961.txt', '1984.txt', '1994.txt', '2013.txt', '2015.txt', '2018.txt', '2025.txt', '2027.txt', '2028.txt', '2030.txt', '2035.txt', '2041.txt', '2042.txt', '2043.txt', '2045.txt', '2049.txt', '2050.txt', '2052.txt', '2053.txt', '2060.txt', '2068.txt', '2071.txt', '2072.txt', '2074.txt', '2079.txt', '2102.txt', '2104.txt', '2122.txt', '2128.txt', '2129.txt', '2140.txt', '2151.txt', '2159.txt', '2165.txt', '2191.txt', '2198.txt', '2201.txt', '2208.txt', '2211.txt', '2213.txt', '2214.txt', '2216.txt', '2217.txt', '2218.txt', '2220.txt', '2222.txt', '2223.txt', '2224.txt', '2225.txt', '2229.txt', '2230.txt', '2232.txt', '2234.txt', '2235.txt', '2237.txt', '2238.txt', '2240.txt', '2241.txt', '2245.txt', '2249.txt', '2250.txt', '2251.txt', '2252.txt', '2257.txt', '2259.txt', '2260.txt', '2261.txt', '2262.txt', '2264.txt', '2265.txt', '2266.txt', '2268.txt', '2270.txt', '2271.txt', '2272.txt', '2273.txt', '2274.txt', '2275.txt', '2276.txt', '2277.txt', '2278.txt', '2279.txt', '2282.txt', '2286.txt', '2287.txt', '2288.txt', '2289.txt', '2292.txt', '2294.txt', '2297.txt', '2298.txt', '2299.txt', '2300.txt', '2301.txt', '2302.txt', '2303.txt', '2304.txt', '2305.txt', '2307.txt', '2308.txt', '2309.txt', '2311.txt', '2314.txt', '2316.txt', '2317.txt', '2320.txt', '2321.txt', '2323.txt', '2325.txt', '2327.txt', '2329.txt', '2330.txt', '2332.txt', '2333.txt', '2334.txt', '2335.txt', '2337.txt', '2338.txt', '2341.txt', '2342.txt', '2346.txt', '2347.txt', '2349.txt', '2353.txt', '2355.txt', '2356.txt', '2358.txt', '2362.txt', '2363.txt', '2365.txt', '2369.txt', '2370.txt', '2373.txt', '2383.txt', '2385.txt', '2398.txt', '2407.txt', '2409.txt', '2410.txt', '2412.txt', '2413.txt', '2415.txt', '2416.txt', '2421.txt', '2422.txt', '2424.txt', '2427.txt', '2428.txt', '2429.txt', '2430.txt', '2431.txt', '2432.txt', '2433.txt', '2435.txt', '2437.txt', '2439.txt', '2443.txt', '2445.txt', '2451.txt', '2454.txt', '2457.txt', '246.txt', '2463.txt', '2467.txt', '2474.txt', '2492.txt', '2493.txt', '2495.txt', '2496.txt', '2497.txt', '2502.txt', '2503.txt', '2505.txt', '2506.txt', '2507.txt', '2508.txt', '2509.txt', '2510.txt', '2511.txt', '2512.txt', '2513.txt', '2515.txt', '2517.txt', '2518.txt', '2519.txt', '2520.txt', '2522.txt', '2523.txt', '2528.txt', '2529.txt', '2533.txt', '2534.txt', '2542.txt', '2543.txt', '2544.txt', '2551.txt', '2552.txt', '2553.txt', '2554.txt', '2556.txt', '2561.txt', '2563.txt', '2565.txt', '2566.txt', '2573.txt', '2578.txt', '2583.txt', '2587.txt', '2597.txt', '2602.txt', '2606.txt', '2607.txt', '2608.txt', '2609.txt', '28.txt', '31.txt', '338.txt', '34.txt', '35.txt', '41.txt', '410.txt', '43.txt', '447.txt', '45.txt', '461.txt', '482.txt', '489.txt', '534.txt', '550.txt', '566.txt', '645.txt', '687.txt', '69.txt', '727.txt', '736.txt', '758.txt', '790.txt', '814.txt', '831.txt', '840.txt', '843.txt', '848.txt', '849.txt', '867.txt', '883.txt', '916.txt', '931.txt', '933.txt', '957.txt', '973.txt']\n",
            "INDIE :  339\n",
            "['1140.txt', '1141.txt', '1177.txt', '1193.txt', '1200.txt', '1217.txt', '1219.txt', '1227.txt', '1261.txt', '1282.txt', '1367.txt', '1386.txt', '1406.txt', '1407.txt', '1417.txt', '1419.txt', '1442.txt', '1471.txt', '148.txt', '1483.txt', '1501.txt', '1508.txt', '1514.txt', '1549.txt', '1550.txt', '1551.txt', '1554.txt', '1557.txt', '1562.txt', '1565.txt', '1570.txt', '1572.txt', '1576.txt', '1580.txt', '1586.txt', '1598.txt', '1599.txt', '1620.txt', '1622.txt', '1625.txt', '1630.txt', '1635.txt', '1637.txt', '1639.txt', '1645.txt', '1647.txt', '1654.txt', '1657.txt', '1659.txt', '1661.txt', '1668.txt', '1671.txt', '1675.txt', '1676.txt', '1678.txt', '1679.txt', '1691.txt', '1701.txt', '1705.txt', '1715.txt', '1722.txt', '1732.txt', '1734.txt', '1735.txt', '1737.txt', '1739.txt', '1745.txt', '1751.txt', '1753.txt', '1756.txt', '1757.txt', '1764.txt', '1777.txt', '1778.txt', '1804.txt', '1809.txt', '1811.txt', '1812.txt', '1814.txt', '1816.txt', '1819.txt', '1820.txt', '1822.txt', '1825.txt', '1834.txt', '1841.txt', '1845.txt', '1850.txt', '1871.txt', '1876.txt', '1882.txt', '191.txt', '1911.txt', '192.txt', '1920.txt', '1921.txt', '1927.txt', '1929.txt', '1933.txt', '1934.txt', '1935.txt', '1937.txt', '1938.txt', '1939.txt', '1942.txt', '1944.txt', '1946.txt', '1951.txt', '1952.txt', '1954.txt', '1955.txt', '1960.txt', '1964.txt', '1968.txt', '1970.txt', '1971.txt', '1978.txt', '1980.txt', '1981.txt', '1985.txt', '1989.txt', '1995.txt', '1997.txt', '2.txt', '200.txt', '2000.txt', '2013.txt', '2019.txt', '2020.txt', '2022.txt', '2043.txt', '2048.txt', '205.txt', '2081.txt', '2095.txt', '2097.txt', '2098.txt', '21.txt', '210.txt', '2100.txt', '2101.txt', '2102.txt', '2104.txt', '2108.txt', '2114.txt', '2116.txt', '2117.txt', '2120.txt', '2122.txt', '2128.txt', '2129.txt', '2131.txt', '2136.txt', '2137.txt', '2149.txt', '2157.txt', '2166.txt', '2167.txt', '2172.txt', '2173.txt', '2174.txt', '2175.txt', '2176.txt', '2182.txt', '2185.txt', '2188.txt', '2195.txt', '220.txt', '2208.txt', '2209.txt', '2239.txt', '2245.txt', '2246.txt', '2247.txt', '2248.txt', '226.txt', '2285.txt', '2286.txt', '229.txt', '2294.txt', '231.txt', '2320.txt', '2321.txt', '2322.txt', '2323.txt', '2324.txt', '2325.txt', '2326.txt', '2328.txt', '2329.txt', '2335.txt', '2338.txt', '2340.txt', '2343.txt', '235.txt', '237.txt', '26.txt', '263.txt', '294.txt', '295.txt', '3.txt', '302.txt', '310.txt', '317.txt', '318.txt', '320.txt', '321.txt', '33.txt', '333.txt', '34.txt', '341.txt', '342.txt', '343.txt', '347.txt', '348.txt', '372.txt', '373.txt', '38.txt', '382.txt', '386.txt', '39.txt', '402.txt', '409.txt', '411.txt', '414.txt', '423.txt', '426.txt', '431.txt', '433.txt', '435.txt', '469.txt', '47.txt', '480.txt', '486.txt', '487.txt', '489.txt', '49.txt', '490.txt', '495.txt', '498.txt', '5.txt', '501.txt', '509.txt', '512.txt', '52.txt', '521.txt', '536.txt', '547.txt', '553.txt', '559.txt', '56.txt', '581.txt', '582.txt', '583.txt', '598.txt', '613.txt', '63.txt', '634.txt', '64.txt', '645.txt', '663.txt', '67.txt', '671.txt', '678.txt', '682.txt', '697.txt', '699.txt', '70.txt', '702.txt', '704.txt', '705.txt', '706.txt', '724.txt', '727.txt', '729.txt', '730.txt', '74.txt', '741.txt', '744.txt', '750.txt', '756.txt', '761.txt', '762.txt', '764.txt', '768.txt', '775.txt', '777.txt', '794.txt', '8.txt', '812.txt', '835.txt', '839.txt', '844.txt', '846.txt', '848.txt', '858.txt', '862.txt', '864.txt', '865.txt', '868.txt', '878.txt', '885.txt', '887.txt', '892.txt', '893.txt', '895.txt', '899.txt', '9.txt', '90.txt', '908.txt', '915.txt', '922.txt', '924.txt', '93.txt', '932.txt', '934.txt', '935.txt', '936.txt', '940.txt', '941.txt', '951.txt', '955.txt', '956.txt', '958.txt', '961.txt', '963.txt', '964.txt', '965.txt', '97.txt', '970.txt', '973.txt', '976.txt', '978.txt', '981.txt', '982.txt', '983.txt', '992.txt', '996.txt', '998.txt']\n",
            "JAZZ :  602\n",
            "['1057.txt', '1208.txt', '1247.txt', '1268.txt', '1274.txt', '1280.txt', '1407.txt', '1421.txt', '1428.txt', '1500.txt', '1513.txt', '1514.txt', '1520.txt', '1540.txt', '1544.txt', '1546.txt', '1548.txt', '1552.txt', '1554.txt', '1558.txt', '1566.txt', '1571.txt', '1579.txt', '1581.txt', '1594.txt', '1596.txt', '1600.txt', '1601.txt', '1603.txt', '1605.txt', '1611.txt', '1613.txt', '1614.txt', '1617.txt', '1619.txt', '1620.txt', '1621.txt', '1625.txt', '1627.txt', '1632.txt', '1634.txt', '1640.txt', '1642.txt', '1643.txt', '1644.txt', '1645.txt', '1650.txt', '1653.txt', '1656.txt', '1658.txt', '166.txt', '1660.txt', '1667.txt', '1670.txt', '1672.txt', '1674.txt', '1675.txt', '1677.txt', '1684.txt', '1688.txt', '1696.txt', '1706.txt', '1707.txt', '1708.txt', '1709.txt', '1710.txt', '1711.txt', '1712.txt', '1714.txt', '1715.txt', '1716.txt', '1717.txt', '1718.txt', '1719.txt', '1720.txt', '1721.txt', '1722.txt', '1723.txt', '1724.txt', '1725.txt', '1726.txt', '1727.txt', '1728.txt', '1729.txt', '1730.txt', '1731.txt', '1732.txt', '1733.txt', '1734.txt', '1735.txt', '1736.txt', '1737.txt', '1738.txt', '1739.txt', '1740.txt', '1741.txt', '1744.txt', '1745.txt', '1746.txt', '1747.txt', '1748.txt', '1749.txt', '1750.txt', '1751.txt', '1752.txt', '1753.txt', '1755.txt', '1756.txt', '1757.txt', '1758.txt', '1759.txt', '176.txt', '1760.txt', '1761.txt', '1762.txt', '1763.txt', '1764.txt', '1766.txt', '1767.txt', '1768.txt', '1769.txt', '1770.txt', '1771.txt', '1772.txt', '1774.txt', '1775.txt', '1776.txt', '1777.txt', '1778.txt', '1779.txt', '1780.txt', '1781.txt', '1783.txt', '1784.txt', '1785.txt', '1786.txt', '1787.txt', '1788.txt', '1789.txt', '1790.txt', '1791.txt', '1792.txt', '1794.txt', '1795.txt', '1796.txt', '1797.txt', '1798.txt', '1799.txt', '1800.txt', '1804.txt', '1806.txt', '1807.txt', '1809.txt', '1810.txt', '1814.txt', '1817.txt', '1821.txt', '1823.txt', '1824.txt', '1829.txt', '1830.txt', '1831.txt', '1834.txt', '1836.txt', '1838.txt', '1843.txt', '1852.txt', '1855.txt', '1858.txt', '1861.txt', '1863.txt', '1864.txt', '1865.txt', '1866.txt', '1868.txt', '1869.txt', '1870.txt', '1872.txt', '1879.txt', '1882.txt', '1883.txt', '1888.txt', '1891.txt', '1892.txt', '1893.txt', '1896.txt', '1897.txt', '1898.txt', '1902.txt', '1908.txt', '191.txt', '1928.txt', '1929.txt', '1941.txt', '1945.txt', '1947.txt', '1949.txt', '1962.txt', '1966.txt', '1976.txt', '1980.txt', '1982.txt', '1985.txt', '1989.txt', '1990.txt', '1999.txt', '2014.txt', '2015.txt', '2029.txt', '2038.txt', '2041.txt', '2043.txt', '2049.txt', '2050.txt', '2051.txt', '2052.txt', '2053.txt', '2055.txt', '2056.txt', '2057.txt', '2060.txt', '2061.txt', '2062.txt', '2063.txt', '2065.txt', '2067.txt', '2068.txt', '2069.txt', '2070.txt', '2071.txt', '2072.txt', '2073.txt', '2074.txt', '2076.txt', '2077.txt', '2078.txt', '2079.txt', '2082.txt', '2083.txt', '2084.txt', '2085.txt', '2086.txt', '2087.txt', '2088.txt', '2089.txt', '2090.txt', '2091.txt', '2092.txt', '2104.txt', '2105.txt', '2106.txt', '2107.txt', '2108.txt', '211.txt', '2110.txt', '2111.txt', '2113.txt', '2114.txt', '2115.txt', '2116.txt', '2117.txt', '2119.txt', '2120.txt', '2121.txt', '2122.txt', '2124.txt', '2125.txt', '2126.txt', '2127.txt', '2128.txt', '2129.txt', '2130.txt', '2131.txt', '2132.txt', '2133.txt', '2134.txt', '2135.txt', '2136.txt', '2137.txt', '2138.txt', '2139.txt', '2140.txt', '2141.txt', '2142.txt', '2148.txt', '2152.txt', '2156.txt', '2157.txt', '2159.txt', '2160.txt', '2169.txt', '2172.txt', '2175.txt', '2176.txt', '2177.txt', '218.txt', '2182.txt', '2185.txt', '2187.txt', '2189.txt', '2190.txt', '220.txt', '2201.txt', '2205.txt', '2207.txt', '2208.txt', '2211.txt', '2216.txt', '2217.txt', '2218.txt', '2225.txt', '2226.txt', '2227.txt', '223.txt', '2233.txt', '2235.txt', '2236.txt', '2237.txt', '2238.txt', '2239.txt', '2240.txt', '2241.txt', '2242.txt', '2243.txt', '2244.txt', '2245.txt', '2246.txt', '2248.txt', '2251.txt', '2252.txt', '2253.txt', '2254.txt', '2255.txt', '2256.txt', '2257.txt', '2258.txt', '2259.txt', '2260.txt', '2261.txt', '2262.txt', '2264.txt', '2265.txt', '2266.txt', '2267.txt', '2271.txt', '2274.txt', '2278.txt', '2279.txt', '2280.txt', '2281.txt', '2282.txt', '2285.txt', '2286.txt', '2287.txt', '2289.txt', '2290.txt', '2291.txt', '2292.txt', '2293.txt', '2295.txt', '2296.txt', '2298.txt', '2299.txt', '2300.txt', '2301.txt', '2302.txt', '2303.txt', '2304.txt', '2305.txt', '2306.txt', '2308.txt', '2311.txt', '2313.txt', '2314.txt', '2315.txt', '2316.txt', '2317.txt', '2318.txt', '2320.txt', '2321.txt', '2322.txt', '2323.txt', '2324.txt', '2334.txt', '2335.txt', '2336.txt', '2337.txt', '2339.txt', '2342.txt', '2348.txt', '2349.txt', '2350.txt', '2351.txt', '2353.txt', '2354.txt', '2355.txt', '2356.txt', '2357.txt', '2359.txt', '2361.txt', '2362.txt', '2364.txt', '2366.txt', '237.txt', '2370.txt', '2372.txt', '2375.txt', '2378.txt', '2379.txt', '2382.txt', '2384.txt', '2386.txt', '2387.txt', '2388.txt', '2389.txt', '2390.txt', '2391.txt', '2392.txt', '2393.txt', '2394.txt', '2396.txt', '2397.txt', '2398.txt', '2399.txt', '2400.txt', '2401.txt', '2402.txt', '2404.txt', '2405.txt', '2406.txt', '2407.txt', '2409.txt', '2410.txt', '2411.txt', '2412.txt', '2413.txt', '2414.txt', '2415.txt', '2416.txt', '2417.txt', '2418.txt', '2420.txt', '2421.txt', '2423.txt', '2424.txt', '2425.txt', '2426.txt', '2427.txt', '2429.txt', '2433.txt', '2434.txt', '2435.txt', '2437.txt', '2440.txt', '2443.txt', '2445.txt', '2450.txt', '2455.txt', '2463.txt', '2464.txt', '2470.txt', '2473.txt', '2474.txt', '2475.txt', '2477.txt', '2480.txt', '2483.txt', '2484.txt', '2485.txt', '2486.txt', '249.txt', '2490.txt', '2491.txt', '2493.txt', '250.txt', '2500.txt', '2504.txt', '2505.txt', '2514.txt', '2517.txt', '2520.txt', '2521.txt', '2534.txt', '2535.txt', '2537.txt', '2538.txt', '2540.txt', '2541.txt', '2543.txt', '2544.txt', '2547.txt', '2548.txt', '2549.txt', '2551.txt', '2552.txt', '2553.txt', '2555.txt', '2556.txt', '2557.txt', '2558.txt', '2561.txt', '2564.txt', '2569.txt', '2571.txt', '2575.txt', '2576.txt', '2580.txt', '2587.txt', '2589.txt', '2591.txt', '2595.txt', '2599.txt', '2606.txt', '261.txt', '2616.txt', '2625.txt', '263.txt', '293.txt', '295.txt', '296.txt', '30.txt', '300.txt', '306.txt', '308.txt', '315.txt', '32.txt', '322.txt', '370.txt', '373.txt', '377.txt', '389.txt', '397.txt', '477.txt', '51.txt', '510.txt', '511.txt', '513.txt', '514.txt', '526.txt', '551.txt', '558.txt', '561.txt', '565.txt', '571.txt', '574.txt', '578.txt', '580.txt', '586.txt', '587.txt', '589.txt', '590.txt', '594.txt', '595.txt', '601.txt', '603.txt', '610.txt', '615.txt', '626.txt', '640.txt', '658.txt', '660.txt', '67.txt', '677.txt', '693.txt', '694.txt', '706.txt', '713.txt', '715.txt', '716.txt', '719.txt', '720.txt', '722.txt', '723.txt', '740.txt', '750.txt', '756.txt', '759.txt', '760.txt', '770.txt', '792.txt', '797.txt', '802.txt', '805.txt', '811.txt', '812.txt', '835.txt', '854.txt', '864.txt', '87.txt', '890.txt', '91.txt', '936.txt', '937.txt', '949.txt', '953.txt', '954.txt', '969.txt', '970.txt', '971.txt', '972.txt', '975.txt', '988.txt']\n",
            "POP :  1010\n",
            "['1205.txt', '1217.txt', '1234.txt', '1255.txt', '1289.txt', '1304.txt', '131.txt', '132.txt', '1320.txt', '1332.txt', '134.txt', '1343.txt', '1347.txt', '1353.txt', '1357.txt', '1374.txt', '1378.txt', '1380.txt', '1384.txt', '1385.txt', '1386.txt', '1390.txt', '1392.txt', '1394.txt', '1395.txt', '1399.txt', '1407.txt', '1409.txt', '141.txt', '1410.txt', '1415.txt', '1416.txt', '1418.txt', '1419.txt', '1422.txt', '1423.txt', '1425.txt', '1427.txt', '1428.txt', '1429.txt', '143.txt', '1437.txt', '144.txt', '1452.txt', '1456.txt', '1458.txt', '147.txt', '148.txt', '1482.txt', '1487.txt', '1494.txt', '150.txt', '1515.txt', '1526.txt', '1544.txt', '1545.txt', '1547.txt', '155.txt', '1550.txt', '1551.txt', '1553.txt', '1555.txt', '1558.txt', '1560.txt', '1563.txt', '1564.txt', '1567.txt', '1568.txt', '1569.txt', '1572.txt', '1573.txt', '1575.txt', '1578.txt', '1580.txt', '1588.txt', '1596.txt', '1599.txt', '1600.txt', '1603.txt', '1604.txt', '1605.txt', '1606.txt', '1608.txt', '1610.txt', '1614.txt', '1617.txt', '162.txt', '1620.txt', '1624.txt', '1627.txt', '1630.txt', '1632.txt', '1633.txt', '1642.txt', '1643.txt', '1644.txt', '1653.txt', '1657.txt', '1660.txt', '1661.txt', '1662.txt', '1663.txt', '1666.txt', '1672.txt', '1676.txt', '1677.txt', '1679.txt', '1681.txt', '1687.txt', '1692.txt', '1694.txt', '1696.txt', '1697.txt', '1699.txt', '1701.txt', '1702.txt', '1703.txt', '1708.txt', '1709.txt', '171.txt', '1710.txt', '1711.txt', '1712.txt', '1714.txt', '1715.txt', '1719.txt', '1720.txt', '1721.txt', '1723.txt', '1724.txt', '1725.txt', '1728.txt', '1729.txt', '1740.txt', '1741.txt', '1742.txt', '1745.txt', '1748.txt', '1750.txt', '1753.txt', '1758.txt', '1760.txt', '1762.txt', '1773.txt', '1775.txt', '1781.txt', '1782.txt', '1783.txt', '1788.txt', '1789.txt', '1792.txt', '1794.txt', '1797.txt', '1798.txt', '18.txt', '1803.txt', '1845.txt', '1846.txt', '1847.txt', '1848.txt', '1849.txt', '1850.txt', '1851.txt', '1853.txt', '1856.txt', '1857.txt', '1859.txt', '1860.txt', '1861.txt', '1862.txt', '1867.txt', '1868.txt', '1871.txt', '1872.txt', '1873.txt', '1875.txt', '1878.txt', '1879.txt', '1880.txt', '1882.txt', '1883.txt', '1884.txt', '1888.txt', '1889.txt', '189.txt', '1890.txt', '1892.txt', '1893.txt', '1895.txt', '1898.txt', '1899.txt', '190.txt', '1900.txt', '1901.txt', '1902.txt', '1903.txt', '1906.txt', '1907.txt', '1908.txt', '1909.txt', '1911.txt', '1914.txt', '1915.txt', '1916.txt', '1917.txt', '1925.txt', '1926.txt', '1929.txt', '193.txt', '1931.txt', '1936.txt', '1937.txt', '1938.txt', '1940.txt', '1941.txt', '1943.txt', '1945.txt', '1947.txt', '1949.txt', '1950.txt', '1956.txt', '1959.txt', '196.txt', '1960.txt', '1964.txt', '1966.txt', '1968.txt', '1969.txt', '197.txt', '1973.txt', '1977.txt', '1980.txt', '1983.txt', '1984.txt', '1987.txt', '1988.txt', '199.txt', '1993.txt', '1995.txt', '2.txt', '20.txt', '2000.txt', '2003.txt', '2011.txt', '2012.txt', '2022.txt', '2025.txt', '203.txt', '2034.txt', '204.txt', '2040.txt', '2043.txt', '2045.txt', '2049.txt', '205.txt', '2057.txt', '2058.txt', '206.txt', '2061.txt', '2066.txt', '2067.txt', '207.txt', '2071.txt', '2072.txt', '2075.txt', '2077.txt', '2078.txt', '208.txt', '2080.txt', '2081.txt', '2082.txt', '209.txt', '2090.txt', '2092.txt', '2093.txt', '2094.txt', '2095.txt', '2099.txt', '210.txt', '2100.txt', '2102.txt', '2103.txt', '211.txt', '2111.txt', '2113.txt', '2115.txt', '2117.txt', '2119.txt', '212.txt', '2120.txt', '2121.txt', '2122.txt', '2123.txt', '2124.txt', '2125.txt', '2126.txt', '2127.txt', '2128.txt', '213.txt', '2131.txt', '2132.txt', '2133.txt', '2134.txt', '2135.txt', '2136.txt', '2137.txt', '2138.txt', '214.txt', '2140.txt', '2143.txt', '2145.txt', '2146.txt', '2147.txt', '2148.txt', '2149.txt', '215.txt', '2153.txt', '2154.txt', '2156.txt', '2157.txt', '2159.txt', '216.txt', '2161.txt', '2162.txt', '2164.txt', '2166.txt', '217.txt', '2171.txt', '2174.txt', '2175.txt', '2176.txt', '2177.txt', '2179.txt', '2181.txt', '2182.txt', '2183.txt', '2185.txt', '2186.txt', '219.txt', '2190.txt', '2191.txt', '2193.txt', '2194.txt', '2195.txt', '2196.txt', '2198.txt', '2199.txt', '220.txt', '2202.txt', '2203.txt', '2204.txt', '2206.txt', '2208.txt', '2209.txt', '2213.txt', '2214.txt', '2217.txt', '222.txt', '2221.txt', '2222.txt', '2223.txt', '2226.txt', '2227.txt', '2228.txt', '2229.txt', '223.txt', '2230.txt', '2231.txt', '2233.txt', '2236.txt', '2237.txt', '2238.txt', '2239.txt', '224.txt', '2240.txt', '2242.txt', '2243.txt', '2248.txt', '225.txt', '2250.txt', '2254.txt', '2259.txt', '226.txt', '2260.txt', '2261.txt', '2262.txt', '2263.txt', '2264.txt', '2267.txt', '2269.txt', '227.txt', '2270.txt', '2271.txt', '2272.txt', '2273.txt', '2274.txt', '2275.txt', '2277.txt', '2279.txt', '228.txt', '2280.txt', '2281.txt', '2282.txt', '2284.txt', '2285.txt', '2286.txt', '2287.txt', '2288.txt', '229.txt', '2290.txt', '2294.txt', '2295.txt', '2296.txt', '2297.txt', '2299.txt', '230.txt', '2300.txt', '2301.txt', '2302.txt', '2304.txt', '2305.txt', '2306.txt', '2307.txt', '2310.txt', '2311.txt', '2312.txt', '232.txt', '2323.txt', '2326.txt', '2328.txt', '233.txt', '2333.txt', '2334.txt', '2336.txt', '2338.txt', '234.txt', '2340.txt', '2342.txt', '2353.txt', '2357.txt', '236.txt', '2361.txt', '2362.txt', '2367.txt', '237.txt', '2378.txt', '238.txt', '2380.txt', '2385.txt', '2389.txt', '239.txt', '240.txt', '2400.txt', '241.txt', '242.txt', '243.txt', '2432.txt', '2436.txt', '2437.txt', '2438.txt', '2439.txt', '244.txt', '2440.txt', '2441.txt', '2442.txt', '2443.txt', '2444.txt', '2445.txt', '2447.txt', '2449.txt', '245.txt', '2450.txt', '2451.txt', '2452.txt', '2455.txt', '2456.txt', '2457.txt', '246.txt', '2460.txt', '2461.txt', '2462.txt', '2463.txt', '2466.txt', '2468.txt', '2469.txt', '2470.txt', '2471.txt', '2472.txt', '2473.txt', '2476.txt', '2477.txt', '2478.txt', '248.txt', '2480.txt', '2481.txt', '2482.txt', '2483.txt', '2484.txt', '2486.txt', '2487.txt', '249.txt', '2490.txt', '2492.txt', '2497.txt', '250.txt', '2500.txt', '2504.txt', '2506.txt', '2507.txt', '251.txt', '2510.txt', '2511.txt', '2516.txt', '2517.txt', '2519.txt', '252.txt', '2520.txt', '2522.txt', '2524.txt', '2525.txt', '253.txt', '2533.txt', '2534.txt', '2536.txt', '2537.txt', '2539.txt', '2540.txt', '2542.txt', '2543.txt', '2544.txt', '2545.txt', '2546.txt', '2547.txt', '2548.txt', '2549.txt', '2550.txt', '2551.txt', '2552.txt', '2553.txt', '2554.txt', '2555.txt', '2556.txt', '2557.txt', '2558.txt', '2559.txt', '2560.txt', '2562.txt', '2563.txt', '2564.txt', '2565.txt', '2566.txt', '2567.txt', '2568.txt', '2569.txt', '2570.txt', '2572.txt', '2573.txt', '2574.txt', '2575.txt', '2576.txt', '2577.txt', '2578.txt', '2579.txt', '2580.txt', '2581.txt', '2582.txt', '2585.txt', '2586.txt', '2587.txt', '2588.txt', '2589.txt', '2591.txt', '2592.txt', '2593.txt', '2594.txt', '2595.txt', '2596.txt', '2597.txt', '2599.txt', '26.txt', '260.txt', '2601.txt', '2604.txt', '2606.txt', '2607.txt', '2608.txt', '2610.txt', '2611.txt', '2612.txt', '2613.txt', '2614.txt', '2618.txt', '2619.txt', '262.txt', '2621.txt', '2624.txt', '2625.txt', '2626.txt', '2628.txt', '2629.txt', '2631.txt', '2632.txt', '2633.txt', '2637.txt', '2638.txt', '2643.txt', '2644.txt', '2645.txt', '2646.txt', '2647.txt', '2648.txt', '2649.txt', '2650.txt', '2651.txt', '2652.txt', '2653.txt', '2654.txt', '2655.txt', '2656.txt', '2657.txt', '2658.txt', '2660.txt', '2661.txt', '2663.txt', '2664.txt', '2665.txt', '2666.txt', '2668.txt', '2669.txt', '2670.txt', '2671.txt', '2672.txt', '2673.txt', '2674.txt', '2675.txt', '2676.txt', '2677.txt', '2678.txt', '2679.txt', '268.txt', '2680.txt', '2681.txt', '2682.txt', '2683.txt', '2684.txt', '2685.txt', '2686.txt', '2687.txt', '2689.txt', '2690.txt', '2693.txt', '2694.txt', '2695.txt', '2697.txt', '2700.txt', '2703.txt', '2704.txt', '2705.txt', '2706.txt', '2708.txt', '271.txt', '2710.txt', '2713.txt', '2715.txt', '2716.txt', '2718.txt', '2719.txt', '2722.txt', '2723.txt', '2725.txt', '2726.txt', '2727.txt', '2728.txt', '2730.txt', '2731.txt', '2732.txt', '274.txt', '275.txt', '279.txt', '282.txt', '283.txt', '284.txt', '285.txt', '287.txt', '288.txt', '289.txt', '29.txt', '292.txt', '294.txt', '295.txt', '296.txt', '298.txt', '303.txt', '305.txt', '306.txt', '307.txt', '308.txt', '310.txt', '311.txt', '314.txt', '317.txt', '323.txt', '324.txt', '325.txt', '326.txt', '327.txt', '329.txt', '33.txt', '331.txt', '336.txt', '337.txt', '339.txt', '34.txt', '340.txt', '341.txt', '345.txt', '347.txt', '348.txt', '349.txt', '35.txt', '353.txt', '356.txt', '357.txt', '358.txt', '359.txt', '36.txt', '362.txt', '363.txt', '364.txt', '365.txt', '366.txt', '369.txt', '370.txt', '371.txt', '372.txt', '376.txt', '377.txt', '378.txt', '379.txt', '38.txt', '380.txt', '381.txt', '382.txt', '383.txt', '384.txt', '385.txt', '386.txt', '387.txt', '388.txt', '390.txt', '391.txt', '392.txt', '393.txt', '394.txt', '395.txt', '396.txt', '398.txt', '399.txt', '4.txt', '400.txt', '401.txt', '402.txt', '403.txt', '404.txt', '405.txt', '406.txt', '407.txt', '409.txt', '410.txt', '411.txt', '413.txt', '414.txt', '415.txt', '416.txt', '417.txt', '418.txt', '422.txt', '426.txt', '434.txt', '438.txt', '439.txt', '444.txt', '445.txt', '447.txt', '45.txt', '450.txt', '451.txt', '452.txt', '455.txt', '456.txt', '457.txt', '458.txt', '459.txt', '465.txt', '466.txt', '479.txt', '480.txt', '482.txt', '483.txt', '484.txt', '486.txt', '487.txt', '49.txt', '490.txt', '491.txt', '492.txt', '5.txt', '500.txt', '501.txt', '507.txt', '509.txt', '510.txt', '511.txt', '512.txt', '513.txt', '518.txt', '519.txt', '525.txt', '527.txt', '528.txt', '529.txt', '530.txt', '531.txt', '533.txt', '534.txt', '536.txt', '537.txt', '538.txt', '540.txt', '541.txt', '544.txt', '545.txt', '55.txt', '551.txt', '56.txt', '568.txt', '569.txt', '57.txt', '572.txt', '574.txt', '575.txt', '576.txt', '579.txt', '58.txt', '580.txt', '581.txt', '582.txt', '59.txt', '598.txt', '6.txt', '60.txt', '601.txt', '602.txt', '604.txt', '607.txt', '608.txt', '609.txt', '61.txt', '610.txt', '611.txt', '612.txt', '613.txt', '614.txt', '615.txt', '616.txt', '617.txt', '618.txt', '619.txt', '620.txt', '621.txt', '622.txt', '623.txt', '624.txt', '625.txt', '626.txt', '627.txt', '628.txt', '629.txt', '63.txt', '630.txt', '631.txt', '632.txt', '633.txt', '634.txt', '635.txt', '636.txt', '637.txt', '638.txt', '639.txt', '64.txt', '640.txt', '641.txt', '642.txt', '643.txt', '644.txt', '645.txt', '646.txt', '647.txt', '648.txt', '649.txt', '65.txt', '650.txt', '651.txt', '652.txt', '653.txt', '654.txt', '655.txt', '656.txt', '657.txt', '658.txt', '659.txt', '66.txt', '660.txt', '661.txt', '662.txt', '663.txt', '664.txt', '665.txt', '666.txt', '667.txt', '668.txt', '669.txt', '67.txt', '670.txt', '671.txt', '672.txt', '673.txt', '674.txt', '675.txt', '676.txt', '677.txt', '678.txt', '679.txt', '68.txt', '680.txt', '681.txt', '682.txt', '683.txt', '684.txt', '685.txt', '686.txt', '687.txt', '688.txt', '689.txt', '69.txt', '690.txt', '691.txt', '692.txt', '693.txt', '694.txt', '695.txt', '696.txt', '697.txt', '698.txt', '699.txt', '70.txt', '700.txt', '701.txt', '71.txt', '716.txt', '72.txt', '724.txt', '733.txt', '736.txt', '74.txt', '744.txt', '746.txt', '77.txt', '78.txt', '791.txt', '797.txt', '8.txt', '80.txt', '82.txt', '837.txt', '84.txt', '858.txt', '87.txt', '877.txt', '88.txt', '89.txt', '896.txt', '90.txt', '906.txt', '91.txt', '92.txt', '920.txt', '927.txt', '93.txt', '95.txt', '952.txt', '953.txt', '954.txt', '963.txt', '964.txt', '965.txt', '966.txt', '967.txt', '968.txt', '969.txt', '97.txt', '973.txt', '976.txt', '979.txt', '98.txt', '982.txt', '985.txt', '989.txt', '99.txt', '995.txt']\n",
            "ROCK :  489\n",
            "['1144.txt', '1658.txt', '1755.txt', '1761.txt', '1762.txt', '1809.txt', '1843.txt', '1883.txt', '1930.txt', '1931.txt', '1932.txt', '1935.txt', '1936.txt', '1937.txt', '1939.txt', '1942.txt', '1943.txt', '1949.txt', '1951.txt', '1952.txt', '1953.txt', '1957.txt', '1958.txt', '1959.txt', '1961.txt', '1963.txt', '1965.txt', '1966.txt', '1968.txt', '1976.txt', '1978.txt', '1980.txt', '1981.txt', '1982.txt', '1983.txt', '1985.txt', '1989.txt', '1992.txt', '1994.txt', '1995.txt', '1997.txt', '1998.txt', '1999.txt', '2.txt', '2002.txt', '2003.txt', '2004.txt', '2005.txt', '2006.txt', '2007.txt', '2008.txt', '2009.txt', '2010.txt', '2011.txt', '2012.txt', '2013.txt', '2014.txt', '2015.txt', '2016.txt', '2017.txt', '2019.txt', '2024.txt', '2025.txt', '2026.txt', '2027.txt', '2028.txt', '2029.txt', '203.txt', '2030.txt', '2031.txt', '2032.txt', '2033.txt', '2034.txt', '2035.txt', '2036.txt', '2037.txt', '2038.txt', '2039.txt', '204.txt', '2040.txt', '2041.txt', '2042.txt', '2043.txt', '2044.txt', '2045.txt', '2046.txt', '2047.txt', '2048.txt', '2049.txt', '2050.txt', '2051.txt', '2052.txt', '2053.txt', '2054.txt', '2055.txt', '2056.txt', '2057.txt', '2059.txt', '2060.txt', '2061.txt', '2062.txt', '2063.txt', '2065.txt', '2066.txt', '2068.txt', '2069.txt', '2070.txt', '2071.txt', '2072.txt', '2073.txt', '2074.txt', '2075.txt', '2077.txt', '2078.txt', '2079.txt', '2080.txt', '2081.txt', '2082.txt', '2083.txt', '2084.txt', '2085.txt', '2086.txt', '2087.txt', '2088.txt', '2090.txt', '2091.txt', '2092.txt', '2093.txt', '2094.txt', '2095.txt', '2096.txt', '2097.txt', '2099.txt', '210.txt', '2100.txt', '2101.txt', '2103.txt', '2104.txt', '2105.txt', '2106.txt', '2107.txt', '2108.txt', '2109.txt', '211.txt', '2110.txt', '2111.txt', '2112.txt', '2113.txt', '2116.txt', '2117.txt', '2118.txt', '2119.txt', '2120.txt', '214.txt', '215.txt', '2170.txt', '2171.txt', '2172.txt', '2173.txt', '2174.txt', '2175.txt', '2176.txt', '2177.txt', '2178.txt', '2179.txt', '2180.txt', '2181.txt', '2183.txt', '2184.txt', '2185.txt', '2186.txt', '2187.txt', '2188.txt', '2189.txt', '2190.txt', '2192.txt', '2193.txt', '2194.txt', '2195.txt', '2196.txt', '2197.txt', '2198.txt', '2199.txt', '2200.txt', '2201.txt', '2202.txt', '2203.txt', '2204.txt', '2205.txt', '2206.txt', '2207.txt', '2208.txt', '2209.txt', '2210.txt', '2211.txt', '2212.txt', '2213.txt', '2214.txt', '2215.txt', '2216.txt', '2217.txt', '2218.txt', '2219.txt', '2221.txt', '2222.txt', '2223.txt', '2224.txt', '2225.txt', '2226.txt', '2228.txt', '2229.txt', '2230.txt', '2231.txt', '2232.txt', '2233.txt', '2234.txt', '2235.txt', '2236.txt', '2237.txt', '2238.txt', '2239.txt', '2240.txt', '2242.txt', '2243.txt', '2244.txt', '2245.txt', '2246.txt', '2247.txt', '2248.txt', '2249.txt', '2250.txt', '2251.txt', '2252.txt', '2253.txt', '2254.txt', '2255.txt', '2256.txt', '2257.txt', '2258.txt', '2259.txt', '226.txt', '2260.txt', '2261.txt', '2263.txt', '2265.txt', '2266.txt', '2267.txt', '2269.txt', '2270.txt', '2271.txt', '2272.txt', '2273.txt', '2274.txt', '2275.txt', '2276.txt', '2277.txt', '2328.txt', '245.txt', '253.txt', '263.txt', '264.txt', '266.txt', '267.txt', '274.txt', '287.txt', '288.txt', '29.txt', '296.txt', '300.txt', '374.txt', '4.txt', '402.txt', '403.txt', '404.txt', '405.txt', '406.txt', '407.txt', '408.txt', '409.txt', '412.txt', '413.txt', '414.txt', '415.txt', '417.txt', '418.txt', '419.txt', '42.txt', '420.txt', '421.txt', '422.txt', '423.txt', '424.txt', '425.txt', '426.txt', '427.txt', '428.txt', '429.txt', '430.txt', '431.txt', '432.txt', '433.txt', '434.txt', '435.txt', '436.txt', '438.txt', '439.txt', '440.txt', '441.txt', '442.txt', '443.txt', '444.txt', '445.txt', '446.txt', '447.txt', '448.txt', '449.txt', '47.txt', '503.txt', '508.txt', '51.txt', '510.txt', '511.txt', '512.txt', '516.txt', '517.txt', '52.txt', '527.txt', '53.txt', '530.txt', '537.txt', '539.txt', '54.txt', '541.txt', '547.txt', '549.txt', '556.txt', '558.txt', '56.txt', '561.txt', '57.txt', '570.txt', '574.txt', '577.txt', '578.txt', '58.txt', '580.txt', '585.txt', '589.txt', '59.txt', '595.txt', '602.txt', '61.txt', '617.txt', '621.txt', '622.txt', '625.txt', '63.txt', '65.txt', '684.txt', '686.txt', '687.txt', '688.txt', '690.txt', '694.txt', '697.txt', '698.txt', '7.txt', '700.txt', '71.txt', '711.txt', '712.txt', '713.txt', '715.txt', '717.txt', '719.txt', '72.txt', '722.txt', '723.txt', '727.txt', '728.txt', '730.txt', '736.txt', '737.txt', '738.txt', '739.txt', '74.txt', '740.txt', '743.txt', '744.txt', '746.txt', '748.txt', '749.txt', '750.txt', '751.txt', '753.txt', '756.txt', '757.txt', '760.txt', '764.txt', '765.txt', '766.txt', '771.txt', '775.txt', '777.txt', '778.txt', '779.txt', '780.txt', '781.txt', '784.txt', '785.txt', '787.txt', '788.txt', '789.txt', '79.txt', '790.txt', '791.txt', '795.txt', '797.txt', '798.txt', '799.txt', '801.txt', '802.txt', '804.txt', '807.txt', '809.txt', '812.txt', '813.txt', '815.txt', '820.txt', '821.txt', '822.txt', '825.txt', '828.txt', '83.txt', '831.txt', '832.txt', '839.txt', '84.txt', '844.txt', '846.txt', '847.txt', '849.txt', '851.txt', '853.txt', '855.txt', '856.txt', '858.txt', '859.txt', '86.txt', '862.txt', '863.txt', '864.txt', '867.txt', '868.txt', '869.txt', '87.txt', '870.txt', '872.txt', '877.txt', '88.txt', '893.txt', '896.txt', '897.txt', '899.txt', '900.txt', '903.txt', '904.txt', '917.txt', '921.txt', '922.txt', '923.txt', '924.txt', '927.txt', '93.txt', '945.txt', '949.txt', '956.txt', '960.txt', '962.txt', '97.txt', '970.txt', '982.txt', '983.txt', '984.txt', '985.txt', '986.txt', '987.txt', '988.txt', '99.txt']\n"
          ]
        }
      ],
      "source": [
        "# check duplicate files\n",
        "\n",
        "def check_duplicate(PATH):\n",
        "    list_genre = os.listdir(PATH)\n",
        "    for gen in list_genre:\n",
        "        genre_PATH = os.path.join(PATH, gen)\n",
        "        list_lyric = os.listdir(genre_PATH)\n",
        "        songlist, dup = [], []\n",
        "        count = 0\n",
        "        for lyric in list_lyric:\n",
        "            lyric_PATH = os.path.join(genre_PATH, lyric)\n",
        "            with open(lyric_PATH, 'r', encoding='utf-8') as f:\n",
        "                fl = f.readline()\n",
        "                if fl not in songlist:\n",
        "                    songlist.append(fl)\n",
        "                else:\n",
        "                    dup.append(lyric)\n",
        "                    count += 1\n",
        "        print(gen, ': ', count)\n",
        "        print(dup)\n",
        "\n",
        "check_duplicate(r'E:\\Data_analysis\\Data_Science\\Data_crawler\\song_lyrics')"
      ]
    },
    {
      "cell_type": "code",
      "execution_count": 44,
      "metadata": {},
      "outputs": [],
      "source": [
        "# delete duplicate files\n",
        "\n",
        "def remove_duplicate(PATH):\n",
        "    list_genre = os.listdir(PATH)\n",
        "    for gen in list_genre:\n",
        "        genre_PATH = os.path.join(PATH, gen)\n",
        "        list_lyric = os.listdir(genre_PATH)\n",
        "        songlist, dup = [], []\n",
        "        for lyric in list_lyric:\n",
        "            lyric_PATH = os.path.join(genre_PATH, lyric)\n",
        "            with open(lyric_PATH, 'r', encoding='utf-8') as f:\n",
        "                fl = f.readline()\n",
        "                if fl not in songlist:\n",
        "                    songlist.append(fl)\n",
        "                else:\n",
        "                    dup.append(lyric_PATH)\n",
        "        \n",
        "        for path in dup:\n",
        "            os.remove(path)\n",
        "                    \n",
        "        \n",
        "\n",
        "remove_duplicate(r'E:\\Data_analysis\\Data_Science\\Data_crawler\\song_lyrics')"
      ]
    },
    {
      "cell_type": "code",
      "execution_count": 45,
      "metadata": {},
      "outputs": [
        {
          "name": "stdout",
          "output_type": "stream",
          "text": [
            "COUNTRY :  0\n",
            "[]\n",
            "HIPHOP :  0\n",
            "[]\n",
            "INDIE :  0\n",
            "[]\n",
            "JAZZ :  0\n",
            "[]\n",
            "POP :  0\n",
            "[]\n",
            "ROCK :  0\n",
            "[]\n"
          ]
        }
      ],
      "source": [
        "check_duplicate(r'E:\\Data_analysis\\Data_Science\\Data_crawler\\song_lyrics')"
      ]
    },
    {
      "cell_type": "code",
      "execution_count": 3,
      "metadata": {},
      "outputs": [
        {
          "name": "stdout",
          "output_type": "stream",
          "text": [
            "Category COUNTRY has 1772 elements.\n",
            "Category HIPHOP has 2261 elements.\n",
            "Category INDIE has 1947 elements.\n",
            "Category JAZZ has 1624 elements.\n",
            "Category POP has 1577 elements.\n",
            "Category ROCK has 1605 elements.\n"
          ]
        }
      ],
      "source": [
        "countLyric(r'E:\\Data_analysis\\Data_Science\\Data_crawler\\song_lyrics')"
      ]
    },
    {
      "cell_type": "markdown",
      "metadata": {},
      "source": [
        "## Create DataSet"
      ]
    },
    {
      "cell_type": "code",
      "execution_count": 5,
      "metadata": {},
      "outputs": [],
      "source": [
        "def create_dataset(PATH):\n",
        "    data = []\n",
        "    index = 0\n",
        "    list_genre = os.listdir(PATH)\n",
        "    for gen in list_genre:\n",
        "        genre_PATH = os.path.join(PATH, gen)\n",
        "        list_lyric = os.listdir(genre_PATH)\n",
        "        for i in range(1500):\n",
        "            lyric = list_lyric[i]\n",
        "            lyric_PATH = os.path.join(genre_PATH, lyric)\n",
        "            with open(lyric_PATH, 'r', encoding='utf-8') as f:\n",
        "                song_name = f.readline().replace('Song Name: ', '').replace('\\n', '')\n",
        "                song_lyric = ''\n",
        "                for count, line in enumerate(f):\n",
        "                    if count != 0:\n",
        "                        song_lyric += line.replace('\\n', '. ')\n",
        "\n",
        "            song_dictionary =  {'index': index,\n",
        "                                'song_name': song_name,\n",
        "                                'song_lyric': song_lyric,\n",
        "                                'category': gen}\n",
        "\n",
        "            data.append(song_dictionary)\n",
        "            index += 1\n",
        "\n",
        "    df_data = pd.DataFrame(data)\n",
        "    df_data.to_csv(\"DS_data_final.csv\", index=False)\n",
        "    df_data.to_excel(\"DS_data_final.xlsx\", index=False)\n",
        "\n",
        "create_dataset(r'E:\\Data_analysis\\Data_Science\\Data_crawler\\song_lyrics')\n"
      ]
    },
    {
      "cell_type": "code",
      "execution_count": 4,
      "metadata": {},
      "outputs": [],
      "source": [
        "import re\n",
        "def clean_non_english(txt):\n",
        "    txt = re.sub(r'\\W+', ' ', txt)\n",
        "    txt = txt.lower()\n",
        "    txt = txt.replace(\"[^a-zA-Z]\", \" \")\n",
        "    word_tokens = word_tokenize(txt)\n",
        "    filtered_word = [w for w in word_tokens if all(ord(c) < 128 for c in w)]\n",
        "    filtered_word = [w + \" \" for w in filtered_word]\n",
        "    return \"\".join(filtered_word)"
      ]
    },
    {
      "cell_type": "code",
      "execution_count": null,
      "metadata": {},
      "outputs": [],
      "source": []
    }
  ],
  "metadata": {
    "colab": {
      "provenance": []
    },
    "kernelspec": {
      "display_name": "Python 3.8.10 64-bit",
      "language": "python",
      "name": "python3"
    },
    "language_info": {
      "codemirror_mode": {
        "name": "ipython",
        "version": 3
      },
      "file_extension": ".py",
      "mimetype": "text/x-python",
      "name": "python",
      "nbconvert_exporter": "python",
      "pygments_lexer": "ipython3",
      "version": "3.8.10"
    },
    "vscode": {
      "interpreter": {
        "hash": "9ca2561c17da07f33809ca03ba7aa600fbdf40d422ce225f1db7d8c88545dfa6"
      }
    }
  },
  "nbformat": 4,
  "nbformat_minor": 0
}
