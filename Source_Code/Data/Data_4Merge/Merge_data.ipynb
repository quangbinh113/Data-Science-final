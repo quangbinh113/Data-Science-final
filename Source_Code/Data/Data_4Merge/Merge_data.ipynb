{
 "cells": [
  {
   "cell_type": "code",
   "execution_count": 3,
   "metadata": {},
   "outputs": [],
   "source": [
    "import pandas as pd"
   ]
  },
  {
   "cell_type": "code",
   "execution_count": 18,
   "metadata": {},
   "outputs": [],
   "source": [
    "data1 = pd.read_csv(r'E:\\Data_analysis\\Data_Science\\data_4Merge\\train.csv')\n",
    "data2 = pd.read_csv(r'E:\\Data_analysis\\Data_Science\\data_4Merge\\test.csv')"
   ]
  },
  {
   "cell_type": "code",
   "execution_count": 19,
   "metadata": {},
   "outputs": [
    {
     "name": "stdout",
     "output_type": "stream",
     "text": [
      "<class 'pandas.core.frame.DataFrame'>\n",
      "RangeIndex: 290183 entries, 0 to 290182\n",
      "Data columns (total 5 columns):\n",
      " #   Column    Non-Null Count   Dtype \n",
      "---  ------    --------------   ----- \n",
      " 0   Artist    290183 non-null  object\n",
      " 1   Song      290182 non-null  object\n",
      " 2   Genre     290183 non-null  object\n",
      " 3   Language  290179 non-null  object\n",
      " 4   Lyrics    290148 non-null  object\n",
      "dtypes: object(5)\n",
      "memory usage: 11.1+ MB\n",
      "<class 'pandas.core.frame.DataFrame'>\n",
      "RangeIndex: 7935 entries, 0 to 7934\n",
      "Data columns (total 6 columns):\n",
      " #   Column     Non-Null Count  Dtype \n",
      "---  ------     --------------  ----- \n",
      " 0   Song       7935 non-null   object\n",
      " 1   Song year  7935 non-null   int64 \n",
      " 2   Artist     7935 non-null   object\n",
      " 3   Genre      7935 non-null   object\n",
      " 4   Lyrics     7935 non-null   object\n",
      " 5   Track_id   7935 non-null   int64 \n",
      "dtypes: int64(2), object(4)\n",
      "memory usage: 372.1+ KB\n"
     ]
    },
    {
     "data": {
      "text/plain": [
       "(None, None)"
      ]
     },
     "execution_count": 19,
     "metadata": {},
     "output_type": "execute_result"
    }
   ],
   "source": [
    "data1.info(), data2.info()"
   ]
  },
  {
   "cell_type": "code",
   "execution_count": 11,
   "metadata": {},
   "outputs": [
    {
     "name": "stdout",
     "output_type": "stream",
     "text": [
      "['Hip-Hop', 'Indie', 'Metal', 'Pop', 'Country', 'Jazz', 'Rock', 'R&B', 'Electronic', 'Folk']\n"
     ]
    }
   ],
   "source": [
    "def remove_duplicate(arr):\n",
    "    res = []\n",
    "    for val in arr:\n",
    "        if val not in res:\n",
    "            res.append(val)\n",
    "    return res\n",
    "\n",
    "print(remove_duplicate(data['Genre']))"
   ]
  },
  {
   "cell_type": "code",
   "execution_count": 20,
   "metadata": {},
   "outputs": [
    {
     "name": "stdout",
     "output_type": "stream",
     "text": [
      "<class 'pandas.core.frame.DataFrame'>\n",
      "Int64Index: 256242 entries, 0 to 290182\n",
      "Data columns (total 5 columns):\n",
      " #   Column    Non-Null Count   Dtype \n",
      "---  ------    --------------   ----- \n",
      " 0   Artist    256242 non-null  object\n",
      " 1   Song      256241 non-null  object\n",
      " 2   Genre     256242 non-null  object\n",
      " 3   Language  256239 non-null  object\n",
      " 4   Lyrics    256211 non-null  object\n",
      "dtypes: object(5)\n",
      "memory usage: 11.7+ MB\n",
      "<class 'pandas.core.frame.DataFrame'>\n",
      "Int64Index: 5460 entries, 0 to 7934\n",
      "Data columns (total 6 columns):\n",
      " #   Column     Non-Null Count  Dtype \n",
      "---  ------     --------------  ----- \n",
      " 0   Song       5460 non-null   object\n",
      " 1   Song year  5460 non-null   int64 \n",
      " 2   Artist     5460 non-null   object\n",
      " 3   Genre      5460 non-null   object\n",
      " 4   Lyrics     5460 non-null   object\n",
      " 5   Track_id   5460 non-null   int64 \n",
      "dtypes: int64(2), object(4)\n",
      "memory usage: 298.6+ KB\n"
     ]
    },
    {
     "data": {
      "text/plain": [
       "(None, None)"
      ]
     },
     "execution_count": 20,
     "metadata": {},
     "output_type": "execute_result"
    }
   ],
   "source": [
    "data1 = data1.loc[data1['Genre'].isin(['Rock', 'Pop', 'Indie', 'Jazz', 'Hip-Hop', 'Country'])]\n",
    "data2 = data2.loc[data2['Genre'].isin(['Rock', 'Pop', 'Indie', 'Jazz', 'Hip-Hop', 'Country'])]\n",
    "\n",
    "data1.info(), data2.info()"
   ]
  },
  {
   "cell_type": "code",
   "execution_count": 21,
   "metadata": {},
   "outputs": [
    {
     "name": "stdout",
     "output_type": "stream",
     "text": [
      "<class 'pandas.core.frame.DataFrame'>\n",
      "Int64Index: 256207 entries, 0 to 290182\n",
      "Data columns (total 5 columns):\n",
      " #   Column    Non-Null Count   Dtype \n",
      "---  ------    --------------   ----- \n",
      " 0   Artist    256207 non-null  object\n",
      " 1   Song      256207 non-null  object\n",
      " 2   Genre     256207 non-null  object\n",
      " 3   Language  256207 non-null  object\n",
      " 4   Lyrics    256207 non-null  object\n",
      "dtypes: object(5)\n",
      "memory usage: 11.7+ MB\n",
      "<class 'pandas.core.frame.DataFrame'>\n",
      "Int64Index: 5460 entries, 0 to 7934\n",
      "Data columns (total 6 columns):\n",
      " #   Column     Non-Null Count  Dtype \n",
      "---  ------     --------------  ----- \n",
      " 0   Song       5460 non-null   object\n",
      " 1   Song year  5460 non-null   int64 \n",
      " 2   Artist     5460 non-null   object\n",
      " 3   Genre      5460 non-null   object\n",
      " 4   Lyrics     5460 non-null   object\n",
      " 5   Track_id   5460 non-null   int64 \n",
      "dtypes: int64(2), object(4)\n",
      "memory usage: 298.6+ KB\n"
     ]
    },
    {
     "data": {
      "text/plain": [
       "(None, None)"
      ]
     },
     "execution_count": 21,
     "metadata": {},
     "output_type": "execute_result"
    }
   ],
   "source": [
    "data1 = data1.dropna()\n",
    "data2 = data2.dropna()\n",
    "data1.info(), data2.info()"
   ]
  },
  {
   "cell_type": "code",
   "execution_count": 22,
   "metadata": {},
   "outputs": [
    {
     "name": "stdout",
     "output_type": "stream",
     "text": [
      "['Rock', 'Pop', 'Indie', 'Jazz', 'Hip-Hop', 'Country']\n"
     ]
    }
   ],
   "source": [
    "print(remove_duplicate(data1['Genre']))"
   ]
  },
  {
   "cell_type": "code",
   "execution_count": 23,
   "metadata": {},
   "outputs": [
    {
     "name": "stdout",
     "output_type": "stream",
     "text": [
      "Rock       121390\n",
      "Pop        108693\n",
      "Jazz        13545\n",
      "Indie        8449\n",
      "Hip-Hop      2240\n",
      "Country      1890\n",
      "Name: Genre, dtype: int64\n",
      "_________________________________\n",
      "Rock       1410\n",
      "Pop        1110\n",
      "Hip-Hop     960\n",
      "Country     810\n",
      "Jazz        660\n",
      "Indie       510\n",
      "Name: Genre, dtype: int64\n"
     ]
    }
   ],
   "source": [
    "print(data1['Genre'].value_counts())\n",
    "print('_________________________________')\n",
    "print(data2['Genre'].value_counts())"
   ]
  },
  {
   "cell_type": "code",
   "execution_count": 25,
   "metadata": {},
   "outputs": [
    {
     "name": "stdout",
     "output_type": "stream",
     "text": [
      "<class 'pandas.core.frame.DataFrame'>\n",
      "Int64Index: 261667 entries, 0 to 7934\n",
      "Data columns (total 7 columns):\n",
      " #   Column     Non-Null Count   Dtype  \n",
      "---  ------     --------------   -----  \n",
      " 0   Artist     261667 non-null  object \n",
      " 1   Song       261667 non-null  object \n",
      " 2   Genre      261667 non-null  object \n",
      " 3   Language   256207 non-null  object \n",
      " 4   Lyrics     261667 non-null  object \n",
      " 5   Song year  5460 non-null    float64\n",
      " 6   Track_id   5460 non-null    float64\n",
      "dtypes: float64(2), object(5)\n",
      "memory usage: 16.0+ MB\n"
     ]
    }
   ],
   "source": [
    "data = pd.concat([data1, data2])\n",
    "data.info()"
   ]
  },
  {
   "cell_type": "code",
   "execution_count": 16,
   "metadata": {},
   "outputs": [],
   "source": [
    "data.to_csv(r'E:\\Data_analysis\\Data_Science\\data_4Merge\\data2.csv')"
   ]
  },
  {
   "cell_type": "code",
   "execution_count": 26,
   "metadata": {},
   "outputs": [],
   "source": [
    "data = data.drop(columns=['Song year', 'Track_id'])"
   ]
  },
  {
   "cell_type": "code",
   "execution_count": 27,
   "metadata": {},
   "outputs": [
    {
     "name": "stdout",
     "output_type": "stream",
     "text": [
      "<class 'pandas.core.frame.DataFrame'>\n",
      "Int64Index: 261667 entries, 0 to 7934\n",
      "Data columns (total 5 columns):\n",
      " #   Column    Non-Null Count   Dtype \n",
      "---  ------    --------------   ----- \n",
      " 0   Artist    261667 non-null  object\n",
      " 1   Song      261667 non-null  object\n",
      " 2   Genre     261667 non-null  object\n",
      " 3   Language  256207 non-null  object\n",
      " 4   Lyrics    261667 non-null  object\n",
      "dtypes: object(5)\n",
      "memory usage: 12.0+ MB\n"
     ]
    }
   ],
   "source": [
    "data.info()"
   ]
  },
  {
   "cell_type": "code",
   "execution_count": 28,
   "metadata": {},
   "outputs": [
    {
     "name": "stdout",
     "output_type": "stream",
     "text": [
      "Rock       122800\n",
      "Pop        109803\n",
      "Jazz        14205\n",
      "Indie        8959\n",
      "Hip-Hop      3200\n",
      "Country      2700\n",
      "Name: Genre, dtype: int64\n"
     ]
    }
   ],
   "source": [
    "print(data['Genre'].value_counts())"
   ]
  },
  {
   "cell_type": "code",
   "execution_count": 29,
   "metadata": {},
   "outputs": [
    {
     "name": "stdout",
     "output_type": "stream",
     "text": [
      "['en', 'ro', 'pt', 'ca', 'es', 'cy', 'so', 'it', 'tl', 'sv', 'fr', 'af', 'sw', 'nl', 'sq', 'vi', 'no', 'da', 'de', 'id', 'hr', 'fi', 'pl', 'et', 'sl', 'sk', 'hu', 'tr', 'lt', 'cs', 'ko', 'ru', 'lv', nan]\n"
     ]
    }
   ],
   "source": [
    "print(remove_duplicate(data['Language']))"
   ]
  },
  {
   "cell_type": "code",
   "execution_count": 30,
   "metadata": {},
   "outputs": [
    {
     "name": "stdout",
     "output_type": "stream",
     "text": [
      "<class 'pandas.core.frame.DataFrame'>\n",
      "Int64Index: 218124 entries, 0 to 290182\n",
      "Data columns (total 5 columns):\n",
      " #   Column    Non-Null Count   Dtype \n",
      "---  ------    --------------   ----- \n",
      " 0   Artist    218124 non-null  object\n",
      " 1   Song      218124 non-null  object\n",
      " 2   Genre     218124 non-null  object\n",
      " 3   Language  218124 non-null  object\n",
      " 4   Lyrics    218124 non-null  object\n",
      "dtypes: object(5)\n",
      "memory usage: 10.0+ MB\n"
     ]
    }
   ],
   "source": [
    "data = data.loc[data['Language'].isin(['en'])]\n",
    "data.info()"
   ]
  },
  {
   "cell_type": "code",
   "execution_count": 31,
   "metadata": {},
   "outputs": [
    {
     "name": "stdout",
     "output_type": "stream",
     "text": [
      "Rock       107144\n",
      "Pop         86298\n",
      "Jazz        13314\n",
      "Indie        7240\n",
      "Hip-Hop      2238\n",
      "Country      1890\n",
      "Name: Genre, dtype: int64\n"
     ]
    }
   ],
   "source": [
    "print(data['Genre'].value_counts())"
   ]
  },
  {
   "cell_type": "code",
   "execution_count": 35,
   "metadata": {},
   "outputs": [],
   "source": [
    "rock = data.loc[data['Genre'].isin(['Rock'])].head(1890)\n",
    "pop = data.loc[data['Genre'].isin(['Pop'])].head(1890)\n",
    "jazz = data.loc[data['Genre'].isin(['Jazz'])].head(1890)\n",
    "indie = data.loc[data['Genre'].isin(['Indie'])].head(1890)\n",
    "hiphop = data.loc[data['Genre'].isin(['Hip-Hop'])].head(1890)\n",
    "country = data.loc[data['Genre'].isin(['Country'])].head(1890)"
   ]
  },
  {
   "cell_type": "code",
   "execution_count": 37,
   "metadata": {},
   "outputs": [
    {
     "name": "stdout",
     "output_type": "stream",
     "text": [
      "<class 'pandas.core.frame.DataFrame'>\n",
      "Int64Index: 11340 entries, 0 to 290172\n",
      "Data columns (total 5 columns):\n",
      " #   Column    Non-Null Count  Dtype \n",
      "---  ------    --------------  ----- \n",
      " 0   Artist    11340 non-null  object\n",
      " 1   Song      11340 non-null  object\n",
      " 2   Genre     11340 non-null  object\n",
      " 3   Language  11340 non-null  object\n",
      " 4   Lyrics    11340 non-null  object\n",
      "dtypes: object(5)\n",
      "memory usage: 531.6+ KB\n"
     ]
    }
   ],
   "source": [
    "data = pd.concat([rock, pop, jazz, indie, hiphop, country])\n",
    "data.info()"
   ]
  },
  {
   "cell_type": "code",
   "execution_count": 38,
   "metadata": {},
   "outputs": [],
   "source": [
    "data.to_csv(r'E:\\Data_analysis\\Data_Science\\data_4Merge\\data.csv')"
   ]
  },
  {
   "cell_type": "code",
   "execution_count": 42,
   "metadata": {},
   "outputs": [
    {
     "name": "stdout",
     "output_type": "stream",
     "text": [
      "<class 'pandas.core.frame.DataFrame'>\n",
      "Int64Index: 11340 entries, 0 to 290172\n",
      "Data columns (total 3 columns):\n",
      " #   Column  Non-Null Count  Dtype \n",
      "---  ------  --------------  ----- \n",
      " 0   Song    11340 non-null  object\n",
      " 1   Genre   11340 non-null  object\n",
      " 2   Lyrics  11340 non-null  object\n",
      "dtypes: object(3)\n",
      "memory usage: 354.4+ KB\n"
     ]
    }
   ],
   "source": [
    "data = data.drop(columns=['Artist', 'Language'])\n",
    "data.info()"
   ]
  },
  {
   "cell_type": "code",
   "execution_count": 70,
   "metadata": {},
   "outputs": [
    {
     "name": "stdout",
     "output_type": "stream",
     "text": [
      "<class 'pandas.core.frame.DataFrame'>\n",
      "Int64Index: 11340 entries, 0 to 290172\n",
      "Data columns (total 3 columns):\n",
      " #   Column      Non-Null Count  Dtype \n",
      "---  ------      --------------  ----- \n",
      " 0   song name   11340 non-null  object\n",
      " 1   category    11340 non-null  object\n",
      " 2   song lyric  11340 non-null  object\n",
      "dtypes: object(3)\n",
      "memory usage: 354.4+ KB\n"
     ]
    }
   ],
   "source": [
    "data.columns = ['song name', 'category', 'song lyric']\n",
    "data.info()"
   ]
  },
  {
   "cell_type": "code",
   "execution_count": 71,
   "metadata": {},
   "outputs": [
    {
     "name": "stdout",
     "output_type": "stream",
     "text": [
      "<class 'pandas.core.frame.DataFrame'>\n",
      "Int64Index: 11340 entries, 0 to 290172\n",
      "Data columns (total 3 columns):\n",
      " #   Column      Non-Null Count  Dtype \n",
      "---  ------      --------------  ----- \n",
      " 0   song name   11340 non-null  object\n",
      " 1   song lyric  11340 non-null  object\n",
      " 2   category    11340 non-null  object\n",
      "dtypes: object(3)\n",
      "memory usage: 354.4+ KB\n"
     ]
    }
   ],
   "source": [
    "cols = list(data.columns)\n",
    "a, b, c = cols.index('song name'), cols.index('category'), cols.index('song lyric')\n",
    "cols[a], cols[b], cols[c] = cols[a], cols[c], cols[b]\n",
    "data_ = data[cols]\n",
    "data_.info()"
   ]
  },
  {
   "cell_type": "code",
   "execution_count": 72,
   "metadata": {},
   "outputs": [
    {
     "data": {
      "text/html": [
       "<div>\n",
       "<style scoped>\n",
       "    .dataframe tbody tr th:only-of-type {\n",
       "        vertical-align: middle;\n",
       "    }\n",
       "\n",
       "    .dataframe tbody tr th {\n",
       "        vertical-align: top;\n",
       "    }\n",
       "\n",
       "    .dataframe thead th {\n",
       "        text-align: right;\n",
       "    }\n",
       "</style>\n",
       "<table border=\"1\" class=\"dataframe\">\n",
       "  <thead>\n",
       "    <tr style=\"text-align: right;\">\n",
       "      <th></th>\n",
       "      <th>Country</th>\n",
       "      <th>Hip-Hop</th>\n",
       "      <th>Indie</th>\n",
       "      <th>Jazz</th>\n",
       "      <th>Pop</th>\n",
       "      <th>Rock</th>\n",
       "    </tr>\n",
       "  </thead>\n",
       "  <tbody>\n",
       "    <tr>\n",
       "      <th>0</th>\n",
       "      <td>0</td>\n",
       "      <td>0</td>\n",
       "      <td>0</td>\n",
       "      <td>0</td>\n",
       "      <td>0</td>\n",
       "      <td>1</td>\n",
       "    </tr>\n",
       "    <tr>\n",
       "      <th>1</th>\n",
       "      <td>0</td>\n",
       "      <td>0</td>\n",
       "      <td>0</td>\n",
       "      <td>0</td>\n",
       "      <td>0</td>\n",
       "      <td>1</td>\n",
       "    </tr>\n",
       "    <tr>\n",
       "      <th>2</th>\n",
       "      <td>0</td>\n",
       "      <td>0</td>\n",
       "      <td>0</td>\n",
       "      <td>0</td>\n",
       "      <td>0</td>\n",
       "      <td>1</td>\n",
       "    </tr>\n",
       "    <tr>\n",
       "      <th>3</th>\n",
       "      <td>0</td>\n",
       "      <td>0</td>\n",
       "      <td>0</td>\n",
       "      <td>0</td>\n",
       "      <td>0</td>\n",
       "      <td>1</td>\n",
       "    </tr>\n",
       "    <tr>\n",
       "      <th>4</th>\n",
       "      <td>0</td>\n",
       "      <td>0</td>\n",
       "      <td>0</td>\n",
       "      <td>0</td>\n",
       "      <td>0</td>\n",
       "      <td>1</td>\n",
       "    </tr>\n",
       "  </tbody>\n",
       "</table>\n",
       "</div>"
      ],
      "text/plain": [
       "   Country  Hip-Hop  Indie  Jazz  Pop  Rock\n",
       "0        0        0      0     0    0     1\n",
       "1        0        0      0     0    0     1\n",
       "2        0        0      0     0    0     1\n",
       "3        0        0      0     0    0     1\n",
       "4        0        0      0     0    0     1"
      ]
     },
     "execution_count": 72,
     "metadata": {},
     "output_type": "execute_result"
    }
   ],
   "source": [
    "cate = pd.get_dummies(data_['category'])\n",
    "cate.head()"
   ]
  },
  {
   "cell_type": "code",
   "execution_count": 73,
   "metadata": {},
   "outputs": [
    {
     "data": {
      "text/html": [
       "<div>\n",
       "<style scoped>\n",
       "    .dataframe tbody tr th:only-of-type {\n",
       "        vertical-align: middle;\n",
       "    }\n",
       "\n",
       "    .dataframe tbody tr th {\n",
       "        vertical-align: top;\n",
       "    }\n",
       "\n",
       "    .dataframe thead th {\n",
       "        text-align: right;\n",
       "    }\n",
       "</style>\n",
       "<table border=\"1\" class=\"dataframe\">\n",
       "  <thead>\n",
       "    <tr style=\"text-align: right;\">\n",
       "      <th></th>\n",
       "      <th>song name</th>\n",
       "      <th>song lyric</th>\n",
       "      <th>Country</th>\n",
       "      <th>Hip-Hop</th>\n",
       "      <th>Indie</th>\n",
       "      <th>Jazz</th>\n",
       "      <th>Pop</th>\n",
       "      <th>Rock</th>\n",
       "    </tr>\n",
       "  </thead>\n",
       "  <tbody>\n",
       "    <tr>\n",
       "      <th>0</th>\n",
       "      <td>world so cold</td>\n",
       "      <td>It starts with pain, followed by hate\\nFueled ...</td>\n",
       "      <td>0</td>\n",
       "      <td>0</td>\n",
       "      <td>0</td>\n",
       "      <td>0</td>\n",
       "      <td>0</td>\n",
       "      <td>1</td>\n",
       "    </tr>\n",
       "    <tr>\n",
       "      <th>1</th>\n",
       "      <td>broken</td>\n",
       "      <td>Freedom!\\nAlone again again alone\\nPatiently w...</td>\n",
       "      <td>0</td>\n",
       "      <td>0</td>\n",
       "      <td>0</td>\n",
       "      <td>0</td>\n",
       "      <td>0</td>\n",
       "      <td>1</td>\n",
       "    </tr>\n",
       "    <tr>\n",
       "      <th>2</th>\n",
       "      <td>3 leaf loser</td>\n",
       "      <td>Biting the hand that feeds you, lying to the v...</td>\n",
       "      <td>0</td>\n",
       "      <td>0</td>\n",
       "      <td>0</td>\n",
       "      <td>0</td>\n",
       "      <td>0</td>\n",
       "      <td>1</td>\n",
       "    </tr>\n",
       "    <tr>\n",
       "      <th>3</th>\n",
       "      <td>anthem for the underdog</td>\n",
       "      <td>You say you know just who I am\\nBut you can't ...</td>\n",
       "      <td>0</td>\n",
       "      <td>0</td>\n",
       "      <td>0</td>\n",
       "      <td>0</td>\n",
       "      <td>0</td>\n",
       "      <td>1</td>\n",
       "    </tr>\n",
       "    <tr>\n",
       "      <th>4</th>\n",
       "      <td>adrenaline</td>\n",
       "      <td>My heart is beating faster can't control these...</td>\n",
       "      <td>0</td>\n",
       "      <td>0</td>\n",
       "      <td>0</td>\n",
       "      <td>0</td>\n",
       "      <td>0</td>\n",
       "      <td>1</td>\n",
       "    </tr>\n",
       "  </tbody>\n",
       "</table>\n",
       "</div>"
      ],
      "text/plain": [
       "                 song name                                         song lyric  \\\n",
       "0            world so cold  It starts with pain, followed by hate\\nFueled ...   \n",
       "1                   broken  Freedom!\\nAlone again again alone\\nPatiently w...   \n",
       "2             3 leaf loser  Biting the hand that feeds you, lying to the v...   \n",
       "3  anthem for the underdog  You say you know just who I am\\nBut you can't ...   \n",
       "4               adrenaline  My heart is beating faster can't control these...   \n",
       "\n",
       "   Country  Hip-Hop  Indie  Jazz  Pop  Rock  \n",
       "0        0        0      0     0    0     1  \n",
       "1        0        0      0     0    0     1  \n",
       "2        0        0      0     0    0     1  \n",
       "3        0        0      0     0    0     1  \n",
       "4        0        0      0     0    0     1  "
      ]
     },
     "execution_count": 73,
     "metadata": {},
     "output_type": "execute_result"
    }
   ],
   "source": [
    "data_ = pd.concat([data_.drop(columns=['category']),cate], axis=1)\n",
    "data_.head()"
   ]
  },
  {
   "cell_type": "code",
   "execution_count": 76,
   "metadata": {},
   "outputs": [
    {
     "name": "stdout",
     "output_type": "stream",
     "text": [
      "<class 'pandas.core.frame.DataFrame'>\n",
      "Int64Index: 11340 entries, 0 to 290172\n",
      "Data columns (total 8 columns):\n",
      " #   Column      Non-Null Count  Dtype \n",
      "---  ------      --------------  ----- \n",
      " 0   song name   11340 non-null  object\n",
      " 1   song lyric  11340 non-null  object\n",
      " 2   COUNTRY     11340 non-null  uint8 \n",
      " 3   HIPHOP      11340 non-null  uint8 \n",
      " 4   INDIE       11340 non-null  uint8 \n",
      " 5   JAZZ        11340 non-null  uint8 \n",
      " 6   POP         11340 non-null  uint8 \n",
      " 7   ROCK        11340 non-null  uint8 \n",
      "dtypes: object(2), uint8(6)\n",
      "memory usage: 332.2+ KB\n"
     ]
    }
   ],
   "source": [
    "data_.columns = ['song name', 'song lyric', 'COUNTRY', 'HIPHOP', 'INDIE', 'JAZZ', 'POP', 'ROCK' ]\n",
    "data_.info()"
   ]
  },
  {
   "attachments": {},
   "cell_type": "markdown",
   "metadata": {},
   "source": [
    "######################################"
   ]
  },
  {
   "cell_type": "code",
   "execution_count": 59,
   "metadata": {},
   "outputs": [
    {
     "name": "stdout",
     "output_type": "stream",
     "text": [
      "<class 'pandas.core.frame.DataFrame'>\n",
      "RangeIndex: 9000 entries, 0 to 8999\n",
      "Data columns (total 3 columns):\n",
      " #   Column      Non-Null Count  Dtype \n",
      "---  ------      --------------  ----- \n",
      " 0   song name   8999 non-null   object\n",
      " 1   song lyric  9000 non-null   object\n",
      " 2   category    9000 non-null   object\n",
      "dtypes: object(3)\n",
      "memory usage: 211.1+ KB\n"
     ]
    }
   ],
   "source": [
    "df = pd.read_csv(r'E:\\Data_analysis\\Data_Science\\data_4Merge\\DS_data_final1.csv')\n",
    "df.dropna()\n",
    "df = df.drop(columns=['index'])\n",
    "df.info()"
   ]
  },
  {
   "cell_type": "code",
   "execution_count": 77,
   "metadata": {},
   "outputs": [
    {
     "data": {
      "text/html": [
       "<div>\n",
       "<style scoped>\n",
       "    .dataframe tbody tr th:only-of-type {\n",
       "        vertical-align: middle;\n",
       "    }\n",
       "\n",
       "    .dataframe tbody tr th {\n",
       "        vertical-align: top;\n",
       "    }\n",
       "\n",
       "    .dataframe thead th {\n",
       "        text-align: right;\n",
       "    }\n",
       "</style>\n",
       "<table border=\"1\" class=\"dataframe\">\n",
       "  <thead>\n",
       "    <tr style=\"text-align: right;\">\n",
       "      <th></th>\n",
       "      <th>COUNTRY</th>\n",
       "      <th>HIPHOP</th>\n",
       "      <th>INDIE</th>\n",
       "      <th>JAZZ</th>\n",
       "      <th>POP</th>\n",
       "      <th>ROCK</th>\n",
       "    </tr>\n",
       "  </thead>\n",
       "  <tbody>\n",
       "    <tr>\n",
       "      <th>0</th>\n",
       "      <td>1</td>\n",
       "      <td>0</td>\n",
       "      <td>0</td>\n",
       "      <td>0</td>\n",
       "      <td>0</td>\n",
       "      <td>0</td>\n",
       "    </tr>\n",
       "    <tr>\n",
       "      <th>1</th>\n",
       "      <td>1</td>\n",
       "      <td>0</td>\n",
       "      <td>0</td>\n",
       "      <td>0</td>\n",
       "      <td>0</td>\n",
       "      <td>0</td>\n",
       "    </tr>\n",
       "    <tr>\n",
       "      <th>2</th>\n",
       "      <td>1</td>\n",
       "      <td>0</td>\n",
       "      <td>0</td>\n",
       "      <td>0</td>\n",
       "      <td>0</td>\n",
       "      <td>0</td>\n",
       "    </tr>\n",
       "    <tr>\n",
       "      <th>3</th>\n",
       "      <td>1</td>\n",
       "      <td>0</td>\n",
       "      <td>0</td>\n",
       "      <td>0</td>\n",
       "      <td>0</td>\n",
       "      <td>0</td>\n",
       "    </tr>\n",
       "    <tr>\n",
       "      <th>4</th>\n",
       "      <td>1</td>\n",
       "      <td>0</td>\n",
       "      <td>0</td>\n",
       "      <td>0</td>\n",
       "      <td>0</td>\n",
       "      <td>0</td>\n",
       "    </tr>\n",
       "  </tbody>\n",
       "</table>\n",
       "</div>"
      ],
      "text/plain": [
       "   COUNTRY  HIPHOP  INDIE  JAZZ  POP  ROCK\n",
       "0        1       0      0     0    0     0\n",
       "1        1       0      0     0    0     0\n",
       "2        1       0      0     0    0     0\n",
       "3        1       0      0     0    0     0\n",
       "4        1       0      0     0    0     0"
      ]
     },
     "execution_count": 77,
     "metadata": {},
     "output_type": "execute_result"
    }
   ],
   "source": [
    "cate_ = pd.get_dummies(df['category'])\n",
    "cate_.head()"
   ]
  },
  {
   "cell_type": "code",
   "execution_count": 78,
   "metadata": {},
   "outputs": [
    {
     "data": {
      "text/html": [
       "<div>\n",
       "<style scoped>\n",
       "    .dataframe tbody tr th:only-of-type {\n",
       "        vertical-align: middle;\n",
       "    }\n",
       "\n",
       "    .dataframe tbody tr th {\n",
       "        vertical-align: top;\n",
       "    }\n",
       "\n",
       "    .dataframe thead th {\n",
       "        text-align: right;\n",
       "    }\n",
       "</style>\n",
       "<table border=\"1\" class=\"dataframe\">\n",
       "  <thead>\n",
       "    <tr style=\"text-align: right;\">\n",
       "      <th></th>\n",
       "      <th>song name</th>\n",
       "      <th>song lyric</th>\n",
       "      <th>COUNTRY</th>\n",
       "      <th>HIPHOP</th>\n",
       "      <th>INDIE</th>\n",
       "      <th>JAZZ</th>\n",
       "      <th>POP</th>\n",
       "      <th>ROCK</th>\n",
       "    </tr>\n",
       "  </thead>\n",
       "  <tbody>\n",
       "    <tr>\n",
       "      <th>0</th>\n",
       "      <td>What My World Spins Around</td>\n",
       "      <td>I love a first cast when the water's glass and...</td>\n",
       "      <td>1</td>\n",
       "      <td>0</td>\n",
       "      <td>0</td>\n",
       "      <td>0</td>\n",
       "      <td>0</td>\n",
       "      <td>0</td>\n",
       "    </tr>\n",
       "    <tr>\n",
       "      <th>1</th>\n",
       "      <td>Home</td>\n",
       "      <td>Another Christmas Day. Will come and go away. ...</td>\n",
       "      <td>1</td>\n",
       "      <td>0</td>\n",
       "      <td>0</td>\n",
       "      <td>0</td>\n",
       "      <td>0</td>\n",
       "      <td>0</td>\n",
       "    </tr>\n",
       "    <tr>\n",
       "      <th>2</th>\n",
       "      <td>I Like It, I Love It</td>\n",
       "      <td>Spent 48 dollars last night at the county fair...</td>\n",
       "      <td>1</td>\n",
       "      <td>0</td>\n",
       "      <td>0</td>\n",
       "      <td>0</td>\n",
       "      <td>0</td>\n",
       "      <td>0</td>\n",
       "    </tr>\n",
       "    <tr>\n",
       "      <th>3</th>\n",
       "      <td>Cheap Suit</td>\n",
       "      <td>There's a man in a cheap suit. Holding a beer ...</td>\n",
       "      <td>1</td>\n",
       "      <td>0</td>\n",
       "      <td>0</td>\n",
       "      <td>0</td>\n",
       "      <td>0</td>\n",
       "      <td>0</td>\n",
       "    </tr>\n",
       "    <tr>\n",
       "      <th>4</th>\n",
       "      <td>St. Louis</td>\n",
       "      <td>I can hear the crowd. The sea of red. My favor...</td>\n",
       "      <td>1</td>\n",
       "      <td>0</td>\n",
       "      <td>0</td>\n",
       "      <td>0</td>\n",
       "      <td>0</td>\n",
       "      <td>0</td>\n",
       "    </tr>\n",
       "  </tbody>\n",
       "</table>\n",
       "</div>"
      ],
      "text/plain": [
       "                    song name  \\\n",
       "0  What My World Spins Around   \n",
       "1                        Home   \n",
       "2        I Like It, I Love It   \n",
       "3                  Cheap Suit   \n",
       "4                   St. Louis   \n",
       "\n",
       "                                          song lyric  COUNTRY  HIPHOP  INDIE  \\\n",
       "0  I love a first cast when the water's glass and...        1       0      0   \n",
       "1  Another Christmas Day. Will come and go away. ...        1       0      0   \n",
       "2  Spent 48 dollars last night at the county fair...        1       0      0   \n",
       "3  There's a man in a cheap suit. Holding a beer ...        1       0      0   \n",
       "4  I can hear the crowd. The sea of red. My favor...        1       0      0   \n",
       "\n",
       "   JAZZ  POP  ROCK  \n",
       "0     0    0     0  \n",
       "1     0    0     0  \n",
       "2     0    0     0  \n",
       "3     0    0     0  \n",
       "4     0    0     0  "
      ]
     },
     "execution_count": 78,
     "metadata": {},
     "output_type": "execute_result"
    }
   ],
   "source": [
    "df_= pd.concat([df.drop(columns=['category']),cate_], axis=1)\n",
    "df_.head()"
   ]
  },
  {
   "attachments": {},
   "cell_type": "markdown",
   "metadata": {},
   "source": [
    "############################################"
   ]
  },
  {
   "cell_type": "code",
   "execution_count": 79,
   "metadata": {},
   "outputs": [
    {
     "name": "stdout",
     "output_type": "stream",
     "text": [
      "<class 'pandas.core.frame.DataFrame'>\n",
      "Int64Index: 20340 entries, 0 to 8999\n",
      "Data columns (total 8 columns):\n",
      " #   Column      Non-Null Count  Dtype \n",
      "---  ------      --------------  ----- \n",
      " 0   song name   20339 non-null  object\n",
      " 1   song lyric  20340 non-null  object\n",
      " 2   COUNTRY     20340 non-null  uint8 \n",
      " 3   HIPHOP      20340 non-null  uint8 \n",
      " 4   INDIE       20340 non-null  uint8 \n",
      " 5   JAZZ        20340 non-null  uint8 \n",
      " 6   POP         20340 non-null  uint8 \n",
      " 7   ROCK        20340 non-null  uint8 \n",
      "dtypes: object(2), uint8(6)\n",
      "memory usage: 595.9+ KB\n"
     ]
    }
   ],
   "source": [
    "data_final = pd.concat([data_, df_])\n",
    "data_final.info()"
   ]
  },
  {
   "cell_type": "code",
   "execution_count": 80,
   "metadata": {},
   "outputs": [
    {
     "name": "stdout",
     "output_type": "stream",
     "text": [
      "<class 'pandas.core.frame.DataFrame'>\n",
      "Int64Index: 20339 entries, 0 to 8999\n",
      "Data columns (total 8 columns):\n",
      " #   Column      Non-Null Count  Dtype \n",
      "---  ------      --------------  ----- \n",
      " 0   song name   20339 non-null  object\n",
      " 1   song lyric  20339 non-null  object\n",
      " 2   COUNTRY     20339 non-null  uint8 \n",
      " 3   HIPHOP      20339 non-null  uint8 \n",
      " 4   INDIE       20339 non-null  uint8 \n",
      " 5   JAZZ        20339 non-null  uint8 \n",
      " 6   POP         20339 non-null  uint8 \n",
      " 7   ROCK        20339 non-null  uint8 \n",
      "dtypes: object(2), uint8(6)\n",
      "memory usage: 595.9+ KB\n"
     ]
    }
   ],
   "source": [
    "data_final = data_final.dropna()\n",
    "data_final.info()"
   ]
  },
  {
   "cell_type": "code",
   "execution_count": 81,
   "metadata": {},
   "outputs": [
    {
     "data": {
      "text/html": [
       "<div>\n",
       "<style scoped>\n",
       "    .dataframe tbody tr th:only-of-type {\n",
       "        vertical-align: middle;\n",
       "    }\n",
       "\n",
       "    .dataframe tbody tr th {\n",
       "        vertical-align: top;\n",
       "    }\n",
       "\n",
       "    .dataframe thead th {\n",
       "        text-align: right;\n",
       "    }\n",
       "</style>\n",
       "<table border=\"1\" class=\"dataframe\">\n",
       "  <thead>\n",
       "    <tr style=\"text-align: right;\">\n",
       "      <th></th>\n",
       "      <th>song name</th>\n",
       "      <th>song lyric</th>\n",
       "      <th>COUNTRY</th>\n",
       "      <th>HIPHOP</th>\n",
       "      <th>INDIE</th>\n",
       "      <th>JAZZ</th>\n",
       "      <th>POP</th>\n",
       "      <th>ROCK</th>\n",
       "    </tr>\n",
       "  </thead>\n",
       "  <tbody>\n",
       "    <tr>\n",
       "      <th>8995</th>\n",
       "      <td>Cocaine</td>\n",
       "      <td>If you wanna hang out, you've gotta take her o...</td>\n",
       "      <td>0</td>\n",
       "      <td>0</td>\n",
       "      <td>0</td>\n",
       "      <td>0</td>\n",
       "      <td>0</td>\n",
       "      <td>1</td>\n",
       "    </tr>\n",
       "    <tr>\n",
       "      <th>8996</th>\n",
       "      <td>All Along the Watchtower</td>\n",
       "      <td>\"There must be some kind of way out of here\". ...</td>\n",
       "      <td>0</td>\n",
       "      <td>0</td>\n",
       "      <td>0</td>\n",
       "      <td>0</td>\n",
       "      <td>0</td>\n",
       "      <td>1</td>\n",
       "    </tr>\n",
       "    <tr>\n",
       "      <th>8997</th>\n",
       "      <td>Carry on Wayward Son</td>\n",
       "      <td>Carry on my wayward son. There'll be peace whe...</td>\n",
       "      <td>0</td>\n",
       "      <td>0</td>\n",
       "      <td>0</td>\n",
       "      <td>0</td>\n",
       "      <td>0</td>\n",
       "      <td>1</td>\n",
       "    </tr>\n",
       "    <tr>\n",
       "      <th>8998</th>\n",
       "      <td>Simple Man</td>\n",
       "      <td>Mama told me when I was young. Come sit beside...</td>\n",
       "      <td>0</td>\n",
       "      <td>0</td>\n",
       "      <td>0</td>\n",
       "      <td>0</td>\n",
       "      <td>0</td>\n",
       "      <td>1</td>\n",
       "    </tr>\n",
       "    <tr>\n",
       "      <th>8999</th>\n",
       "      <td>The Prisoner - 2015 Remaster</td>\n",
       "      <td>We want information. Information. Information....</td>\n",
       "      <td>0</td>\n",
       "      <td>0</td>\n",
       "      <td>0</td>\n",
       "      <td>0</td>\n",
       "      <td>0</td>\n",
       "      <td>1</td>\n",
       "    </tr>\n",
       "  </tbody>\n",
       "</table>\n",
       "</div>"
      ],
      "text/plain": [
       "                         song name  \\\n",
       "8995                       Cocaine   \n",
       "8996      All Along the Watchtower   \n",
       "8997          Carry on Wayward Son   \n",
       "8998                    Simple Man   \n",
       "8999  The Prisoner - 2015 Remaster   \n",
       "\n",
       "                                             song lyric  COUNTRY  HIPHOP  \\\n",
       "8995  If you wanna hang out, you've gotta take her o...        0       0   \n",
       "8996  \"There must be some kind of way out of here\". ...        0       0   \n",
       "8997  Carry on my wayward son. There'll be peace whe...        0       0   \n",
       "8998  Mama told me when I was young. Come sit beside...        0       0   \n",
       "8999  We want information. Information. Information....        0       0   \n",
       "\n",
       "      INDIE  JAZZ  POP  ROCK  \n",
       "8995      0     0    0     1  \n",
       "8996      0     0    0     1  \n",
       "8997      0     0    0     1  \n",
       "8998      0     0    0     1  \n",
       "8999      0     0    0     1  "
      ]
     },
     "execution_count": 81,
     "metadata": {},
     "output_type": "execute_result"
    }
   ],
   "source": [
    "data_final.tail()"
   ]
  },
  {
   "cell_type": "code",
   "execution_count": 83,
   "metadata": {},
   "outputs": [],
   "source": [
    "data_final.to_csv(r'E:\\Data_analysis\\Data_Science\\data_4Merge\\data_final.csv')"
   ]
  }
 ],
 "metadata": {
  "kernelspec": {
   "display_name": "Python 3",
   "language": "python",
   "name": "python3"
  },
  "language_info": {
   "codemirror_mode": {
    "name": "ipython",
    "version": 3
   },
   "file_extension": ".py",
   "mimetype": "text/x-python",
   "name": "python",
   "nbconvert_exporter": "python",
   "pygments_lexer": "ipython3",
   "version": "3.8.10"
  },
  "orig_nbformat": 4,
  "vscode": {
   "interpreter": {
    "hash": "9ca2561c17da07f33809ca03ba7aa600fbdf40d422ce225f1db7d8c88545dfa6"
   }
  }
 },
 "nbformat": 4,
 "nbformat_minor": 2
}
