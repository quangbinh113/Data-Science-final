{
 "cells": [
  {
   "attachments": {},
   "cell_type": "markdown",
   "metadata": {},
   "source": [
    "# Importing torch and other libraries"
   ]
  },
  {
   "cell_type": "code",
   "execution_count": 1,
   "metadata": {},
   "outputs": [],
   "source": [
    "import numpy as np\n",
    "\n",
    "import torch\n",
    "import torch.nn as nn\n",
    "import torch.nn.functional as F\n",
    "from torch.autograd import Variable\n",
    "\n",
    "from sklearn.metrics import accuracy_score\n",
    "from sklearn.model_selection import train_test_split\n",
    "\n",
    "import matplotlib.pyplot as plt\n",
    "import matplotlib.cm as cm\n",
    "%matplotlib inline\n",
    "\n",
    "device = (\"cuda\" if torch.cuda.is_available() else \"cpu\")"
   ]
  },
  {
   "attachments": {},
   "cell_type": "markdown",
   "metadata": {},
   "source": [
    "# Load data"
   ]
  },
  {
   "cell_type": "code",
   "execution_count": 2,
   "metadata": {},
   "outputs": [],
   "source": [
    "def load_data(data_path):\n",
    "    def sparse_to_dense(sparse_r_d, vocab_size):\n",
    "        \"\"\"\n",
    "        Convert a sparse representation of a document by tf-idf to dense form\n",
    "        by mapping its word to a new vector of vocabulary size.\n",
    "        Word without any appearance in the doc get the value 0.0\n",
    "        \"\"\"\n",
    "        r_d = [0.0 for _ in range(vocab_size)]\n",
    "        indices_tf_idfs = sparse_r_d.split()\n",
    "        for index_tf_idf in indices_tf_idfs:\n",
    "            index = int(index_tf_idf.split(\":\")[0])\n",
    "            tfidf = float(index_tf_idf.split(\":\")[1])\n",
    "            r_d[index] = tfidf\n",
    "        return np.array(r_d)\n",
    "    with open(data_path) as f:\n",
    "        d_lines = f.read().splitlines()\n",
    "    with open(\"/Users/anhoang/Desktop/devzone/DS_project/words_idfs_final.txt\") as f:\n",
    "        vocab_size = len(f.read().splitlines())\n",
    "\n",
    "    X = []\n",
    "    Y = []\n",
    "    # label_count = defaultdict(int)\n",
    "    for data_id, d in enumerate(d_lines):\n",
    "        features = d.split(\"<fff>\")\n",
    "        label, doc_id = int(features[0]), int(features[1])\n",
    "        # label_count[label] += 1\n",
    "        r_d = sparse_to_dense(\n",
    "            sparse_r_d=features[2], vocab_size=vocab_size)\n",
    "        X.append(r_d)\n",
    "        one_hot_label = np.zeros((6), dtype=int)\n",
    "        one_hot_label[label] = 1\n",
    "        Y.append(one_hot_label)\n",
    "    return np.array(X, dtype=np.float32), np.array(Y, dtype=np.float32)"
   ]
  },
  {
   "cell_type": "code",
   "execution_count": 3,
   "metadata": {},
   "outputs": [],
   "source": [
    "X, Y = load_data(data_path=\"data_tf_idf_final.txt\")"
   ]
  },
  {
   "cell_type": "code",
   "execution_count": 10,
   "metadata": {},
   "outputs": [],
   "source": [
    "X_train, X_test, Y_train, Y_test = train_test_split(X, Y, test_size=0.2, random_state=2023)"
   ]
  },
  {
   "cell_type": "code",
   "execution_count": 11,
   "metadata": {},
   "outputs": [],
   "source": [
    "X_train = torch.from_numpy(X_train)\n",
    "X_test = torch.from_numpy(X_test)\n",
    "Y_train = torch.from_numpy(Y_train.squeeze())\n",
    "Y_test = torch.from_numpy(Y_test.squeeze())"
   ]
  },
  {
   "attachments": {},
   "cell_type": "markdown",
   "metadata": {},
   "source": [
    "# Build the model"
   ]
  },
  {
   "cell_type": "code",
   "execution_count": 12,
   "metadata": {},
   "outputs": [],
   "source": [
    "class MLP(nn.Module):\n",
    "    def __init__(self, input_num, hidden_num, output_num):\n",
    "        super().__init__()\n",
    "        self.input_num = input_num\n",
    "        self.hidden_num = hidden_num\n",
    "        self.output_num = output_num\n",
    "        self.fc1 = nn.Linear(input_num, hidden_num) # hidden layer\n",
    "        self.fc2 = nn.Linear(hidden_num, output_num) # output layer\n",
    "        self.sigmoid = nn.Sigmoid() # sigmoid activation function\n",
    "        self.relu = nn.ReLU() # relu activation function\n",
    "        self.softmax = nn.Softmax(dim = 1) # softmax activation function\n",
    "    \n",
    "    def forward(self, x):\n",
    "        x = self.relu(self.fc1(x)) \n",
    "        x = self.softmax(self.fc2(x))\n",
    "        return x\n",
    "    \n",
    "    def predict(self, x):\n",
    "        self.eval()\n",
    "        with torch.no_grad():\n",
    "            output = self(x)\n",
    "            predicted_labels = torch.argmax(output, dim=1)\n",
    "            one_hot = torch.zeros_like(output)\n",
    "            one_hot.scatter_(1, predicted_labels.unsqueeze(1), 1)\n",
    "            return one_hot.tolist()\n"
   ]
  },
  {
   "cell_type": "code",
   "execution_count": 13,
   "metadata": {},
   "outputs": [
    {
     "name": "stdout",
     "output_type": "stream",
     "text": [
      "MLP(\n",
      "  (fc1): Linear(in_features=8967, out_features=50, bias=True)\n",
      "  (fc2): Linear(in_features=50, out_features=6, bias=True)\n",
      "  (sigmoid): Sigmoid()\n",
      "  (relu): ReLU()\n",
      "  (softmax): Softmax(dim=1)\n",
      ")\n"
     ]
    }
   ],
   "source": [
    "with open(\"words_idfs_final.txt\") as f:\n",
    "        vocab_size = len(f.read().splitlines())\n",
    "\n",
    "input_num = vocab_size\n",
    "hidden_num = 50\n",
    "output_num = 6 # The output should be the same as the number of classes\n",
    "\n",
    "model = MLP(input_num, hidden_num, output_num)\n",
    "model.to(device)\n",
    "print(model)\n",
    "     "
   ]
  },
  {
   "cell_type": "code",
   "execution_count": 14,
   "metadata": {},
   "outputs": [],
   "source": [
    "criterion = torch.nn.CrossEntropyLoss()\n",
    "optimizer = torch.optim.Adam(model.parameters(), lr = 0.001)"
   ]
  },
  {
   "cell_type": "code",
   "execution_count": 15,
   "metadata": {},
   "outputs": [
    {
     "name": "stdout",
     "output_type": "stream",
     "text": [
      "Epoch [0/200], Loss: 1.79183\n",
      "Epoch [10/200], Loss: 1.78510\n",
      "Epoch [20/200], Loss: 1.77388\n",
      "Epoch [30/200], Loss: 1.75715\n",
      "Epoch [40/200], Loss: 1.73539\n",
      "Epoch [50/200], Loss: 1.71339\n",
      "Epoch [60/200], Loss: 1.69298\n",
      "Epoch [70/200], Loss: 1.67309\n",
      "Epoch [80/200], Loss: 1.65188\n",
      "Epoch [90/200], Loss: 1.62848\n",
      "Epoch [100/200], Loss: 1.60322\n",
      "Epoch [110/200], Loss: 1.57722\n",
      "Epoch [120/200], Loss: 1.55147\n",
      "Epoch [130/200], Loss: 1.52651\n",
      "Epoch [140/200], Loss: 1.50241\n",
      "Epoch [150/200], Loss: 1.47909\n",
      "Epoch [160/200], Loss: 1.45661\n",
      "Epoch [170/200], Loss: 1.43521\n",
      "Epoch [180/200], Loss: 1.41509\n",
      "Epoch [190/200], Loss: 1.39640\n",
      "\n",
      "Training Complete\n"
     ]
    }
   ],
   "source": [
    "num_epochs = 200 # num of epochs\n",
    "train_accuracy_lst = []\n",
    "test_accuracy_lst = []\n",
    "\n",
    "for epoch in range(num_epochs):\n",
    "    # forward propagation\n",
    "    Y_pred = model(X_train)\n",
    "    loss = criterion(Y_pred, Y_train)\n",
    "    \n",
    "    # back propagation\n",
    "    optimizer.zero_grad()\n",
    "    loss.backward()\n",
    "    optimizer.step()\n",
    "\n",
    "\n",
    "    model_prediction = model.predict(X_train)\n",
    "    train_accuracy_lst.append(accuracy_score(model_prediction, Y_train) * 100)\n",
    "    \n",
    "    model_prediction = model.predict(X_test)\n",
    "    test_accuracy_lst.append(accuracy_score(model_prediction, Y_test) * 100)\n",
    "\n",
    "    if epoch % 10 == 0:\n",
    "        print('Epoch [{}/{}], Loss: {:.5f}'.format(epoch, num_epochs, loss.item()))\n",
    "print('\\nTraining Complete')"
   ]
  },
  {
   "cell_type": "code",
   "execution_count": 30,
   "metadata": {},
   "outputs": [],
   "source": [
    "model_prediction = model.predict(X_test)"
   ]
  },
  {
   "cell_type": "code",
   "execution_count": 17,
   "metadata": {},
   "outputs": [
    {
     "name": "stdout",
     "output_type": "stream",
     "text": [
      "Accuracy Score on test data ==>> 54.69518190757129%\n"
     ]
    }
   ],
   "source": [
    "print(\"Accuracy Score on test data ==>> {}%\".format(accuracy_score(model_prediction, Y_test) * 100))"
   ]
  },
  {
   "cell_type": "code",
   "execution_count": 19,
   "metadata": {},
   "outputs": [
    {
     "data": {
      "image/png": "[encoded data removed]",
      "text/plain": [
       "<Figure size 432x288 with 1 Axes>"
      ]
     },
     "metadata": {
      "needs_background": "light"
     },
     "output_type": "display_data"
    }
   ],
   "source": [
    "fig, ax = plt.subplots()\n",
    "ax.plot(np.arange(num_epochs), train_accuracy_lst)\n",
    "ax.plot(np.arange(num_epochs), test_accuracy_lst)\n",
    "ax.set_xlabel(\"num_epochs\")\n",
    "ax.set_ylabel(\"Accurcay\")\n",
    "# ax.set_title(\"Tuning C parameter in SVM model\")\n",
    "ax.legend([\"Train\", \"Test\"])\n",
    "plt.show()"
   ]
  },
  {
   "cell_type": "code",
   "execution_count": 20,
   "metadata": {},
   "outputs": [
    {
     "name": "stdout",
     "output_type": "stream",
     "text": [
      "54.793510324483776\n",
      "[50.71288102261554, 50.835791543756145, 51.007866273352995, 51.20452310717798, 51.20452310717798, 51.27826941986234, 51.40117994100295, 51.45034414945919, 51.69616519174042, 51.7944936086529, 51.89282202556539, 52.015732546706, 52.015732546706, 52.11406096361848, 52.21238938053098, 52.53195673549656, 52.5811209439528, 52.753195673549655, 52.8023598820059, 52.753195673549655, 52.876106194690266, 52.82694198623402, 52.90068829891838, 52.94985250737463, 53.07276302851525, 53.14650934119961, 53.31858407079646, 53.441494591937065, 53.441494591937065, 53.66273352999017, 53.61356932153393, 53.76106194690266, 53.908554572271385, 53.9331366764995, 53.98230088495575, 53.9331366764995, 54.031465093412, 54.08062930186824, 53.9331366764995, 54.00688298918387]\n"
     ]
    }
   ],
   "source": [
    "print(max(test_accuracy_lst))\n",
    "print(test_accuracy_lst[130:170])"
   ]
  },
  {
   "cell_type": "code",
   "execution_count": 21,
   "metadata": {},
   "outputs": [],
   "source": [
    "from sklearn.metrics import confusion_matrix\n",
    "from sklearn.metrics import accuracy_score, f1_score\n",
    "import seaborn as sns\n",
    "genresgroup_list = ['COUNTRY', 'HIPHOP', 'INDIE', 'JAZZ', 'POP', 'ROCK']"
   ]
  },
  {
   "cell_type": "code",
   "execution_count": 22,
   "metadata": {},
   "outputs": [],
   "source": [
    "def show_confusion_matrix(confusion_matrix):\n",
    "    plt.rcParams[\"figure.figsize\"] = (10,7)\n",
    "    hmap = sns.heatmap(confusion_matrix, annot=True, fmt=\"d\", cmap=\"Blues\")\n",
    "    hmap.yaxis.set_ticklabels(genresgroup_list, rotation=0, ha='right')\n",
    "    hmap.xaxis.set_ticklabels(genresgroup_list, rotation=30, ha='right')\n",
    "    plt.ylabel('True category')\n",
    "    plt.xlabel('Predicted category');"
   ]
  },
  {
   "cell_type": "code",
   "execution_count": 35,
   "metadata": {},
   "outputs": [],
   "source": [
    "Y_pred_index = np.argmax(model_prediction, axis = 1)"
   ]
  },
  {
   "cell_type": "code",
   "execution_count": 36,
   "metadata": {},
   "outputs": [],
   "source": [
    "Y_test_index = np.argmax(Y_test.cpu(), axis = 1)"
   ]
  },
  {
   "cell_type": "code",
   "execution_count": 34,
   "metadata": {},
   "outputs": [
    {
     "data": {
      "image/png": "[encoded data removed]",
      "text/plain": [
       "<Figure size 720x504 with 2 Axes>"
      ]
     },
     "metadata": {
      "needs_background": "light"
     },
     "output_type": "display_data"
    }
   ],
   "source": [
    "cfm = confusion_matrix(Y_test_index, Y_pred_index)\n",
    "show_confusion_matrix(cfm)\n"
   ]
  },
  {
   "attachments": {},
   "cell_type": "markdown",
   "metadata": {},
   "source": [
    "# Minibatch GD"
   ]
  },
  {
   "cell_type": "code",
   "execution_count": 83,
   "metadata": {},
   "outputs": [
    {
     "name": "stdout",
     "output_type": "stream",
     "text": [
      "Epoch [0/4], Loss: 1.10616\n",
      "Epoch [1/4], Loss: 1.10624\n",
      "Epoch [2/4], Loss: 1.10625\n",
      "Epoch [3/4], Loss: 1.10189\n"
     ]
    }
   ],
   "source": []
  },
  {
   "cell_type": "code",
   "execution_count": 84,
   "metadata": {},
   "outputs": [],
   "source": [
    "model_prediction = model.predict(X_test)"
   ]
  },
  {
   "cell_type": "code",
   "execution_count": 85,
   "metadata": {},
   "outputs": [
    {
     "name": "stdout",
     "output_type": "stream",
     "text": [
      "Accuracy Score on test data ==>> 44.72222222222222%\n"
     ]
    }
   ],
   "source": [
    "print(\"Accuracy Score on test data ==>> {}%\".format(accuracy_score(model_prediction, Y_test) * 100))"
   ]
  },
  {
   "cell_type": "code",
   "execution_count": null,
   "metadata": {},
   "outputs": [],
   "source": []
  }
 ],
 "metadata": {
  "kernelspec": {
   "display_name": "Python 3",
   "language": "python",
   "name": "python3"
  },
  "language_info": {
   "codemirror_mode": {
    "name": "ipython",
    "version": 3
   },
   "file_extension": ".py",
   "mimetype": "text/x-python",
   "name": "python",
   "nbconvert_exporter": "python",
   "pygments_lexer": "ipython3",
   "version": "3.9.0"
  },
  "orig_nbformat": 4,
  "vscode": {
   "interpreter": {
    "hash": "aee8b7b246df8f9039afb4144a1f6fd8d2ca17a180786b69acc140d282b71a49"
   }
  }
 },
 "nbformat": 4,
 "nbformat_minor": 2
}
